{
 "cells": [
  {
   "cell_type": "markdown",
   "source": [
    "##### A feladatok megoldását mentse src/weekly modul-ba a weekly_test_1.py nevű fájlba\n",
    "###### A fájlba kommentként írd be a Neptun kódodat"
   ],
   "metadata": {
    "collapsed": false
   },
   "id": "a8cbfcd702b3de5"
  },
  {
   "cell_type": "code",
   "execution_count": null,
   "outputs": [],
   "source": [
    "#YIK4TJ"
   ],
   "metadata": {
    "collapsed": false
   },
   "id": "7570820639b84ca8"
  },
  {
   "cell_type": "code",
   "execution_count": null,
   "outputs": [],
   "source": [
    "# 1., Írjon egy függvényt ami vissza adja a bemeneti lista páros elemeit\n",
    "# függvény név: evens_from_list\n",
    "# bemeneti paraméterek: input_list \n",
    "# kimeneti típus: List "
   ],
   "metadata": {
    "collapsed": false
   },
   "id": "7675f2ea543b3407"
  },
  {
   "cell_type": "code",
   "execution_count": 2,
   "outputs": [
    {
     "name": "stdout",
     "output_type": "stream",
     "text": [
      "Páros elemek: [2, 4, 6, 8, 10]\n"
     ]
    }
   ],
   "source": [
    "def evens_from_list(input_list):\n",
    "    even_elements = [x for x in input_list if x % 2 == 0]\n",
    "    return even_elements\n",
    "\n"
   ],
   "metadata": {
    "collapsed": false,
    "ExecuteTime": {
     "end_time": "2023-09-20T17:13:20.831992Z",
     "start_time": "2023-09-20T17:13:20.811638Z"
    }
   },
   "id": "249bcda88ef6bb9a"
  },
  {
   "cell_type": "code",
   "execution_count": null,
   "outputs": [],
   "source": [
    "# Példa használat:\n",
    "my_list = [1, 2, 3, 4, 5, 6, 7, 8, 9, 10]\n",
    "even_elements_result = evens_from_list(my_list)\n",
    "print(\"Páros elemek:\", even_elements_result)"
   ],
   "metadata": {
    "collapsed": false
   },
   "id": "d7595a49d9eb729f"
  },
  {
   "cell_type": "code",
   "execution_count": null,
   "outputs": [],
   "source": [
    "# 2., Írjon egy függvényt ami megvizsgálja, hogy a listában minden elem páratlan-e\n",
    "# függvény név: every_element_is_odd\n",
    "# bemeneti paraméterek: input_list \n",
    "# kimeneti típus: bool "
   ],
   "metadata": {
    "collapsed": false
   },
   "id": "initial_id"
  },
  {
   "cell_type": "code",
   "execution_count": 4,
   "outputs": [
    {
     "name": "stdout",
     "output_type": "stream",
     "text": [
      "Minden elem páratlan a my_list1-ben: True\n",
      "Minden elem páratlan a my_list2-ben: False\n"
     ]
    }
   ],
   "source": [
    "def every_element_is_odd(input_list):\n",
    "    for element in input_list:\n",
    "        if element % 2 == 0:\n",
    "            return False\n",
    "    return True\n"
   ],
   "metadata": {
    "collapsed": false,
    "ExecuteTime": {
     "end_time": "2023-09-20T17:19:11.026796Z",
     "start_time": "2023-09-20T17:19:11.001114Z"
    }
   },
   "id": "f403d1a38951a2e5"
  },
  {
   "cell_type": "code",
   "execution_count": null,
   "outputs": [],
   "source": [
    "# Példa használat:\n",
    "my_list1 = [1, 3, 5, 7, 9]\n",
    "my_list2 = [1, 3, 5, 7, 8]\n",
    "\n",
    "result1 = every_element_is_odd(my_list1)\n",
    "result2 = every_element_is_odd(my_list2)\n",
    "\n",
    "print(\"Minden elem páratlan a my_list1-ben:\", result1)\n",
    "print(\"Minden elem páratlan a my_list2-ben:\", result2)"
   ],
   "metadata": {
    "collapsed": false
   },
   "id": "32de36b5b20054fd"
  },
  {
   "cell_type": "code",
   "execution_count": null,
   "outputs": [],
   "source": [
    "# 3., Írjon egy függvényt ami visszaadja a k. legnagyobb elemet listában \n",
    "# függvény név: kth_largest_in_list\n",
    "# bemeneti paraméterek: input_list, kth_largest\n",
    "# kimeneti típus: int "
   ],
   "metadata": {
    "collapsed": false
   },
   "id": "884e2710a259cb85"
  },
  {
   "cell_type": "code",
   "execution_count": 12,
   "outputs": [
    {
     "name": "stdout",
     "output_type": "stream",
     "text": [
      "Az 3. legnagyobb elem a listában: 6\n"
     ]
    }
   ],
   "source": [
    "def kth_largest_in_list(input_list, kth_largest):\n",
    "    # Ellenőrizzük, hogy a k pozitív és nem nagyobb, mint a lista hossza\n",
    "    if kth_largest <= 0 or kth_largest > len(input_list):\n",
    "        raise ValueError(\"Érvénytelen k érték.\")\n",
    "    \n",
    "    # Rendezzük a listát csökkenő sorrendbe\n",
    "    sorted_list = sorted(input_list, reverse=True)\n",
    "    \n",
    "    # Vegyük az első k legnagyobb elemet\n",
    "    kth_largest_element = sorted_list[kth_largest - 1]\n",
    "    \n",
    "    return kth_largest_element\n",
    "\n",
    "# Példa használat:\n",
    "my_list = [5, 2, 9, 8, 1, 6]\n",
    "k = 3\n",
    "\n",
    "result = kth_largest_in_list(my_list, k)\n",
    "print(f\"Az {k}. legnagyobb elem a listában: {result}\")"
   ],
   "metadata": {
    "collapsed": false,
    "ExecuteTime": {
     "end_time": "2023-09-20T17:30:29.048455Z",
     "start_time": "2023-09-20T17:30:29.029772Z"
    }
   },
   "id": "af9f705a9b8115f"
  },
  {
   "cell_type": "code",
   "execution_count": null,
   "outputs": [],
   "source": [
    "def kth_largest_in_list(input_list, kth_largest):\n",
    "\n",
    "    if kth_largest <= 0 or kth_largest > len(input_list):\n",
    "        raise ValueError(\"Érvénytelen k érték.\")\n",
    "    \n",
    "    sorted_list = sorted(input_list, reverse=True)\n",
    "    \n",
    "    kth_largest_element = sorted_list[kth_largest - 1]\n",
    "    \n",
    "    return kth_largest_element\n"
   ],
   "metadata": {
    "collapsed": false
   },
   "id": "5a4c2a396921bf8d"
  },
  {
   "cell_type": "code",
   "execution_count": null,
   "outputs": [],
   "source": [
    "# 4., Írjon egy függvényt ami kiszámítja a lista elemek gördülő átlagát\n",
    "# függvény név: cumavg_list\n",
    "# bemeneti paraméterek: input_list \n",
    "# kimeneti típus: List "
   ],
   "metadata": {
    "collapsed": false
   },
   "id": "8021cc1853d79c8"
  },
  {
   "cell_type": "code",
   "execution_count": 11,
   "outputs": [
    {
     "name": "stdout",
     "output_type": "stream",
     "text": [
      "Gördülő átlag: [1.0, 1.5, 2.0, 2.5, 3.0]\n"
     ]
    }
   ],
   "source": [
    "def cumavg_list(input_list):\n",
    "    cumulative_sum = 0\n",
    "    cumulative_average = []\n",
    "\n",
    "    for i, value in enumerate(input_list, 1):\n",
    "        cumulative_sum += value\n",
    "        average = cumulative_sum / i\n",
    "        cumulative_average.append(average)\n",
    "\n",
    "    return cumulative_average\n"
   ],
   "metadata": {
    "collapsed": false,
    "ExecuteTime": {
     "end_time": "2023-09-20T17:30:13.444323Z",
     "start_time": "2023-09-20T17:30:13.421788Z"
    }
   },
   "id": "1b934675038ee3d3"
  },
  {
   "cell_type": "code",
   "execution_count": null,
   "outputs": [],
   "source": [
    "# Példa használat:\n",
    "my_list = [1, 2, 3, 4, 5]\n",
    "cumulative_average_result = cumavg_list(my_list)\n",
    "print(\"Gördülő átlag:\", cumulative_average_result)"
   ],
   "metadata": {
    "collapsed": false
   },
   "id": "185383fff68901dc"
  },
  {
   "cell_type": "code",
   "execution_count": null,
   "outputs": [],
   "source": [
    "# 5., Írjon egy függvényt ami kiszámítja 2 lista elemenként vett szorzatát\n",
    "# függvény név: element_wise_multiplication\n",
    "# bemeneti paraméterek: input_list1, input_list2 \n",
    "# kimeneti típus: List "
   ],
   "metadata": {
    "collapsed": false
   },
   "id": "323feea145ed36b4"
  },
  {
   "cell_type": "code",
   "execution_count": 10,
   "outputs": [
    {
     "name": "stdout",
     "output_type": "stream",
     "text": [
      "Elemenkénti szorzat: [2, 6, 12, 20, 30]\n"
     ]
    }
   ],
   "source": [
    "def element_wise_multiplication(input_list1, input_list2):\n",
    "    if len(input_list1) != len(input_list2):\n",
    "        raise ValueError(\"A két lista hossza nem egyezik meg.\")\n",
    "\n",
    "    result = [x * y for x, y in zip(input_list1, input_list2)]\n",
    "    return result\n"
   ],
   "metadata": {
    "collapsed": false,
    "ExecuteTime": {
     "end_time": "2023-09-20T17:29:58.541198Z",
     "start_time": "2023-09-20T17:29:58.498324Z"
    }
   },
   "id": "ce2d7d79deff3706"
  },
  {
   "cell_type": "code",
   "execution_count": 13,
   "outputs": [
    {
     "name": "stdout",
     "output_type": "stream",
     "text": [
      "Elemenkénti szorzat: [2, 6, 12, 20, 30]\n"
     ]
    }
   ],
   "source": [
    "def element_wise_multiplication(input_list1, input_list2):\n",
    "    result = [x * y for x, y in zip(input_list1, input_list2)]\n",
    "    return result\n",
    "# Példa használat:\n",
    "list1 = [1, 2, 3, 4, 5]\n",
    "list2 = [2, 3, 4, 5, 6]\n",
    "\n",
    "result = element_wise_multiplication(list1, list2)\n",
    "print(\"Elemenkénti szorzat:\", result)"
   ],
   "metadata": {
    "collapsed": false,
    "ExecuteTime": {
     "end_time": "2023-09-20T17:41:33.246304Z",
     "start_time": "2023-09-20T17:41:33.213073Z"
    }
   },
   "id": "6674291fd3503469"
  },
  {
   "cell_type": "code",
   "execution_count": null,
   "outputs": [],
   "source": [
    "# 6., Írjon egy függvényt amely összekapcsol n listát 1 listába\n",
    "# függvény név: merge_lists\n",
    "# bemeneti paraméterek: *lists\n",
    "# kimeneti típus: List "
   ],
   "metadata": {
    "collapsed": false
   },
   "id": "d1dc000ed96cff44"
  },
  {
   "cell_type": "code",
   "execution_count": 9,
   "outputs": [
    {
     "name": "stdout",
     "output_type": "stream",
     "text": [
      "Összekapcsolt lista: [1, 2, 3, 4, 5, 6, 7, 8, 9]\n"
     ]
    }
   ],
   "source": [
    "def merge_lists(*lists):\n",
    "    merged_list = []\n",
    "    for lst in lists:\n",
    "        merged_list.extend(lst)\n",
    "    return merged_list\n"
   ],
   "metadata": {
    "collapsed": false,
    "ExecuteTime": {
     "end_time": "2023-09-20T17:29:46.090546Z",
     "start_time": "2023-09-20T17:29:46.073019Z"
    }
   },
   "id": "c4af23267ba36eec"
  },
  {
   "cell_type": "code",
   "execution_count": null,
   "outputs": [],
   "source": [
    "# Példa használat:\n",
    "list1 = [1, 2, 3]\n",
    "list2 = [4, 5, 6]\n",
    "list3 = [7, 8, 9]\n",
    "\n",
    "result = merge_lists(list1, list2, list3)\n",
    "print(\"Összekapcsolt lista:\", result)"
   ],
   "metadata": {
    "collapsed": false
   },
   "id": "f1480710f296f984"
  },
  {
   "cell_type": "code",
   "execution_count": null,
   "outputs": [],
   "source": [
    "# 7., Írjon egy függvényt amely visszaadja a lista páratlan elemeinek a négyzetét\n",
    "# függvény név: squared_odds\n",
    "# bemeneti paraméterek: input_list\n",
    "# kimeneti típus: List "
   ],
   "metadata": {
    "collapsed": false
   },
   "id": "2841a2374dec25f5"
  },
  {
   "cell_type": "code",
   "execution_count": 8,
   "outputs": [
    {
     "name": "stdout",
     "output_type": "stream",
     "text": [
      "Páratlan számok négyzetei: [1, 9, 25, 49, 81]\n"
     ]
    }
   ],
   "source": [
    "def squared_odds(input_list):\n",
    "    squared_odds_list = [x**2 for x in input_list if x % 2 != 0]\n",
    "    return squared_odds_list\n",
    "\n"
   ],
   "metadata": {
    "collapsed": false,
    "ExecuteTime": {
     "end_time": "2023-09-20T17:29:32.204394Z",
     "start_time": "2023-09-20T17:29:32.181025Z"
    }
   },
   "id": "96beb0cb1de4283d"
  },
  {
   "cell_type": "code",
   "execution_count": null,
   "outputs": [],
   "source": [
    "# Példa használat:\n",
    "my_list = [1, 2, 3, 4, 5, 6, 7, 8, 9, 10]\n",
    "squared_odds_result = squared_odds(my_list)\n",
    "print(\"Páratlan számok négyzetei:\", squared_odds_result)"
   ],
   "metadata": {
    "collapsed": false
   },
   "id": "23caa98600146465"
  },
  {
   "cell_type": "code",
   "execution_count": null,
   "outputs": [],
   "source": [
    "# 8., Írjon egy függvényt amely a fordítottan sorba rendezi a kulcs-érték párokat a kulcs értéke szerint egy dictionary-ben\n",
    "# függvény név: reverse_sort_by_key\n",
    "# bemeneti paraméterek: input_dict\n",
    "# kimeneti típus: Dict "
   ],
   "metadata": {
    "collapsed": false
   },
   "id": "12e757ffc972f77a"
  },
  {
   "cell_type": "code",
   "execution_count": 6,
   "outputs": [
    {
     "name": "stdout",
     "output_type": "stream",
     "text": [
      "Fordított sorrendben rendezett szótár: {'date': 4, 'cherry': 2, 'banana': 1, 'apple': 3}\n"
     ]
    }
   ],
   "source": [
    "def reverse_sort_by_key(input_dict):\n",
    "    sorted_dict = dict(sorted(input_dict.items(), key=lambda item: item[0], reverse=True))\n",
    "    return sorted_dict\n"
   ],
   "metadata": {
    "collapsed": false,
    "ExecuteTime": {
     "end_time": "2023-09-20T17:27:57.727090Z",
     "start_time": "2023-09-20T17:27:57.695597Z"
    }
   },
   "id": "e9a710de823bd229"
  },
  {
   "cell_type": "code",
   "execution_count": 5,
   "outputs": [
    {
     "ename": "NameError",
     "evalue": "name 'reverse_sort_by_key' is not defined",
     "output_type": "error",
     "traceback": [
      "\u001B[0;31m---------------------------------------------------------------------------\u001B[0m",
      "\u001B[0;31mNameError\u001B[0m                                 Traceback (most recent call last)",
      "Cell \u001B[0;32mIn[5], line 3\u001B[0m\n\u001B[1;32m      1\u001B[0m \u001B[38;5;66;03m# Példa használat:\u001B[39;00m\n\u001B[1;32m      2\u001B[0m my_dict \u001B[38;5;241m=\u001B[39m {\u001B[38;5;124m'\u001B[39m\u001B[38;5;124mapple\u001B[39m\u001B[38;5;124m'\u001B[39m: \u001B[38;5;241m3\u001B[39m, \u001B[38;5;124m'\u001B[39m\u001B[38;5;124mbanana\u001B[39m\u001B[38;5;124m'\u001B[39m: \u001B[38;5;241m1\u001B[39m, \u001B[38;5;124m'\u001B[39m\u001B[38;5;124mcherry\u001B[39m\u001B[38;5;124m'\u001B[39m: \u001B[38;5;241m2\u001B[39m, \u001B[38;5;124m'\u001B[39m\u001B[38;5;124mdate\u001B[39m\u001B[38;5;124m'\u001B[39m: \u001B[38;5;241m4\u001B[39m}\n\u001B[0;32m----> 3\u001B[0m sorted_dict_result \u001B[38;5;241m=\u001B[39m \u001B[43mreverse_sort_by_key\u001B[49m(my_dict)\n\u001B[1;32m      4\u001B[0m \u001B[38;5;28mprint\u001B[39m(\u001B[38;5;124m\"\u001B[39m\u001B[38;5;124mFordított sorrendben rendezett szótár:\u001B[39m\u001B[38;5;124m\"\u001B[39m, sorted_dict_result)\n",
      "\u001B[0;31mNameError\u001B[0m: name 'reverse_sort_by_key' is not defined"
     ]
    }
   ],
   "source": [
    "# Példa használat:\n",
    "my_dict = {'apple': 3, 'banana': 1, 'cherry': 2, 'date': 4}\n",
    "sorted_dict_result = reverse_sort_by_key(my_dict)\n",
    "print(\"Fordított sorrendben rendezett szótár:\", sorted_dict_result)"
   ],
   "metadata": {
    "collapsed": false,
    "ExecuteTime": {
     "end_time": "2023-09-20T17:26:47.530436Z",
     "start_time": "2023-09-20T17:26:47.392874Z"
    }
   },
   "id": "e566b85e382d428d"
  },
  {
   "cell_type": "code",
   "execution_count": null,
   "outputs": [],
   "source": [
    "# 9., Írjon egy függvényt amely a bemeneti, pozitív egész számokat tartalmazó listát kiválogatja 2-vel, 5-el, 2-vel és 5-el, és egyikkel sem osztható számokat, és visszaad egy olyan dictionary-t, amelyben a kulcsok a 'by_two', 'by_five', 'by_two_and_five', és a 'by_none', az értékek, pedig a listák. (2 pont)\n",
    "# függvény név: sort_list_by_divisibility\n",
    "# bemeneti paraméterek: input_list\n",
    "# kimeneti típus: Dict "
   ],
   "metadata": {
    "collapsed": false
   },
   "id": "58dc0ff752928e36"
  },
  {
   "cell_type": "code",
   "execution_count": 7,
   "outputs": [
    {
     "name": "stdout",
     "output_type": "stream",
     "text": [
      "Csoportosított lista szótárként: {'by_two': [2, 4, 6, 8, 10], 'by_five': [5, 10], 'by_two_and_five': [10], 'by_none': [1, 3, 7, 9]}\n"
     ]
    }
   ],
   "source": [
    "def sort_list_by_divisibility(input_list):\n",
    "    by_two = [x for x in input_list if x % 2 == 0]\n",
    "    by_five = [x for x in input_list if x % 5 == 0]\n",
    "    by_two_and_five = [x for x in input_list if x % 2 == 0 and x % 5 == 0]\n",
    "    by_none = [x for x in input_list if x % 2 != 0 and x % 5 != 0]\n",
    "\n",
    "    result_dict = {\n",
    "        'by_two': by_two,\n",
    "        'by_five': by_five,\n",
    "        'by_two_and_five': by_two_and_five,\n",
    "        'by_none': by_none\n",
    "    }\n",
    "\n",
    "    return result_dict\n",
    "\n",
    "\n"
   ],
   "metadata": {
    "collapsed": false,
    "ExecuteTime": {
     "end_time": "2023-09-20T17:28:59.625116Z",
     "start_time": "2023-09-20T17:28:59.599833Z"
    }
   },
   "id": "d62344d106bd25ab"
  },
  {
   "cell_type": "code",
   "execution_count": null,
   "outputs": [],
   "source": [
    "# Példa használat:\n",
    "my_list = [1, 2, 3, 4, 5, 6, 7, 8, 9, 10]\n",
    "sorted_dict_result = sort_list_by_divisibility(my_list)\n",
    "print(\"Csoportosított lista szótárként:\", sorted_dict_result)"
   ],
   "metadata": {
    "collapsed": false
   },
   "id": "4dc12112d99a1b81"
  },
  {
   "cell_type": "code",
   "execution_count": 14,
   "outputs": [
    {
     "name": "stdout",
     "output_type": "stream",
     "text": [
      "{'by_two': [2, 4, 6], 'by_five': [5, 15], 'by_two_and_five': [10], 'by_none': [1, 3]}\n"
     ]
    }
   ],
   "source": [
    "def sort_list_by_divisibility(input_list):\n",
    "    result_dict = {\n",
    "        'by_two': [],\n",
    "        'by_five': [],\n",
    "        'by_two_and_five': [],\n",
    "        'by_none': []\n",
    "    }\n",
    "\n",
    "    for num in input_list:\n",
    "        if num % 2 == 0 and num % 5 == 0:\n",
    "            result_dict['by_two_and_five'].append(num)\n",
    "        elif num % 2 == 0:\n",
    "            result_dict['by_two'].append(num)\n",
    "        elif num % 5 == 0:\n",
    "            result_dict['by_five'].append(num)\n",
    "        else:\n",
    "            result_dict['by_none'].append(num)\n",
    "\n",
    "    return result_dict\n",
    "\n",
    "# Tesztelés:\n",
    "input_list = [1, 2, 3, 4, 5, 6, 10, 15]\n",
    "result = sort_list_by_divisibility(input_list)\n",
    "print(result)\n",
    "\n",
    "       \n"
   ],
   "metadata": {
    "collapsed": false,
    "ExecuteTime": {
     "end_time": "2023-09-20T17:55:38.075186Z",
     "start_time": "2023-09-20T17:55:38.058900Z"
    }
   },
   "id": "157ca581056654f7"
  },
  {
   "cell_type": "markdown",
   "source": [],
   "metadata": {
    "collapsed": false
   },
   "id": "c0cd37813169932a"
  }
 ],
 "metadata": {
  "kernelspec": {
   "display_name": "Python 3",
   "language": "python",
   "name": "python3"
  },
  "language_info": {
   "codemirror_mode": {
    "name": "ipython",
    "version": 2
   },
   "file_extension": ".py",
   "mimetype": "text/x-python",
   "name": "python",
   "nbconvert_exporter": "python",
   "pygments_lexer": "ipython2",
   "version": "2.7.6"
  }
 },
 "nbformat": 4,
 "nbformat_minor": 5
}
