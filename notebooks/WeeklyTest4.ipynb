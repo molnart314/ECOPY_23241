{
 "cells": [
  {
   "cell_type": "markdown",
   "id": "de9d9737616514b8",
   "metadata": {
    "collapsed": false
   },
   "source": [
    "## Az eredményeket mentsd a src/weekly modul-ba weekly_test_4.py néven"
   ]
  },
  {
   "cell_type": "markdown",
   "id": "a9789db8f0fbd7ec",
   "metadata": {
    "collapsed": false
   },
   "source": [
    "#### Használható modulok: pandas, typing, matplotlib, random, src.distributions, src.weekly"
   ]
  },
  {
   "cell_type": "code",
   "execution_count": null,
   "id": "dfea6e648868022e",
   "metadata": {
    "collapsed": false
   },
   "outputs": [],
   "source": [
    "import pandas\n",
    "import pandas as pd\n",
    "from typing import List, Dict\n",
    "import matplotlib\n",
    "import matplotlib.pyplot as plt "
   ]
  },
  {
   "cell_type": "code",
   "execution_count": null,
   "id": "9d26aec7b4e97407",
   "metadata": {
    "collapsed": false
   },
   "outputs": [],
   "source": [
    "\"\"\"\n",
    "1., Olvasd be a data mappa Euro_2012_stats_TEAM.csv nevű fájlját egy dataframe-be. A betöltött adatokat az euro12 alatt tárolja. A következő feladatokban a kiinduló fájlt ne írd felül.\n",
    "\"\"\""
   ]
  },
  {
   "cell_type": "code",
   "execution_count": 6,
   "id": "f1945d927f8109c4",
   "metadata": {
    "collapsed": false,
    "ExecuteTime": {
     "end_time": "2023-10-11T17:23:15.942923Z",
     "start_time": "2023-10-11T17:23:15.861881Z"
    }
   },
   "outputs": [
    {
     "name": "stdout",
     "output_type": "stream",
     "text": [
      "             Team  Goals  Shots on target  Shots off target Shooting Accuracy  \\\n",
      "0         Croatia      4               13                12             51.9%   \n",
      "1  Czech Republic      4               13                18             41.9%   \n",
      "2         Denmark      4               10                10             50.0%   \n",
      "3         England      5               11                18             50.0%   \n",
      "4          France      3               22                24             37.9%   \n",
      "\n",
      "  % Goals-to-shots  Total shots (inc. Blocked)  Hit Woodwork  Penalty goals  \\\n",
      "0            16.0%                          32             0              0   \n",
      "1            12.9%                          39             0              0   \n",
      "2            20.0%                          27             1              0   \n",
      "3            17.2%                          40             0              0   \n",
      "4             6.5%                          65             1              0   \n",
      "\n",
      "   Penalties not scored  ...  Saves made  Saves-to-shots ratio  Fouls Won  \\\n",
      "0                     0  ...          13                 81.3%         41   \n",
      "1                     0  ...           9                 60.1%         53   \n",
      "2                     0  ...          10                 66.7%         25   \n",
      "3                     0  ...          22                 88.1%         43   \n",
      "4                     0  ...           6                 54.6%         36   \n",
      "\n",
      "  Fouls Conceded  Offsides  Yellow Cards  Red Cards  Subs on  Subs off  \\\n",
      "0             62         2             9          0        9         9   \n",
      "1             73         8             7          0       11        11   \n",
      "2             38         8             4          0        7         7   \n",
      "3             45         6             5          0       11        11   \n",
      "4             51         5             6          0       11        11   \n",
      "\n",
      "   Players Used  \n",
      "0            16  \n",
      "1            19  \n",
      "2            15  \n",
      "3            16  \n",
      "4            19  \n",
      "\n",
      "[5 rows x 35 columns]\n"
     ]
    }
   ],
   "source": [
    "import pandas as pd\n",
    "\n",
    "# Fájl beolvasása DataFrame-be\n",
    "euro12 = pd.read_csv('/Users/molnartamas07/Documents/ECOPY_23241/data/Euro_2012_stats_TEAM.csv')\n",
    "\n",
    "# Ellenőrzés, hogy a fájl tartalma helyesen beolvadt-e\n",
    "print(euro12.head())\n"
   ]
  },
  {
   "cell_type": "code",
   "execution_count": null,
   "id": "b79c977da040d844",
   "metadata": {
    "collapsed": false
   },
   "outputs": [],
   "source": [
    "\"\"\"\n",
    "2., Készíts egy függvényt, ami megmondja, hogy hány csapat indult az Európa Bajnokságon\n",
    "\n",
    "függvény név: number_of_participants\n",
    "bemenet: input_df\n",
    "kimeneti típus: int\n",
    "\"\"\""
   ]
  },
  {
   "cell_type": "markdown",
   "id": "c304a64416ee9b65",
   "metadata": {
    "collapsed": false
   },
   "source": []
  },
  {
   "cell_type": "code",
   "execution_count": 7,
   "id": "505baa2089524304",
   "metadata": {
    "collapsed": false,
    "ExecuteTime": {
     "end_time": "2023-10-11T17:23:23.963417Z",
     "start_time": "2023-10-11T17:23:23.924251Z"
    }
   },
   "outputs": [
    {
     "name": "stdout",
     "output_type": "stream",
     "text": [
      "Az Európa-bajnokságon részt vevő csapatok száma: 16\n"
     ]
    }
   ],
   "source": [
    "def number_of_participants(input_df):\n",
    "    num_participants = len(input_df['Team'].unique())\n",
    "    return num_participants\n",
    "participants_count = number_of_participants(euro12)\n",
    "print(\"Az Európa-bajnokságon részt vevő csapatok száma:\", participants_count)"
   ]
  },
  {
   "cell_type": "code",
   "execution_count": 2,
   "id": "9d190eb6f3a482b6",
   "metadata": {
    "collapsed": false,
    "ExecuteTime": {
     "end_time": "2023-10-11T17:18:25.928277Z",
     "start_time": "2023-10-11T17:18:25.863090Z"
    }
   },
   "outputs": [
    {
     "ename": "NameError",
     "evalue": "name 'number_of_participants' is not defined",
     "output_type": "error",
     "traceback": [
      "\u001B[0;31m---------------------------------------------------------------------------\u001B[0m",
      "\u001B[0;31mNameError\u001B[0m                                 Traceback (most recent call last)",
      "Cell \u001B[0;32mIn[2], line 1\u001B[0m\n\u001B[0;32m----> 1\u001B[0m participants_count \u001B[38;5;241m=\u001B[39m \u001B[43mnumber_of_participants\u001B[49m(euro12)\n\u001B[1;32m      2\u001B[0m \u001B[38;5;28mprint\u001B[39m(\u001B[38;5;124m\"\u001B[39m\u001B[38;5;124mAz Európa-bajnokságon részt vevő csapatok száma:\u001B[39m\u001B[38;5;124m\"\u001B[39m, participants_count)\n",
      "\u001B[0;31mNameError\u001B[0m: name 'number_of_participants' is not defined"
     ]
    }
   ],
   "source": [
    "\n"
   ]
  },
  {
   "cell_type": "code",
   "execution_count": null,
   "id": "dd10fafbf699543d",
   "metadata": {
    "collapsed": false
   },
   "outputs": [],
   "source": [
    "\"\"\"\n",
    "3., Készíts egy függvényt, ami visszadja a csapatokat és az áltatuk lőtt gólokat.\n",
    "\n",
    "függvény név: goals\n",
    "bemenet: input_df\n",
    "kimeneti típus: pandas.core.frame.DataFrame\n",
    "\"\"\""
   ]
  },
  {
   "cell_type": "code",
   "execution_count": 8,
   "id": "a58cb336d2bac95d",
   "metadata": {
    "collapsed": false,
    "ExecuteTime": {
     "end_time": "2023-10-11T17:24:01.463988Z",
     "start_time": "2023-10-11T17:24:01.442338Z"
    }
   },
   "outputs": [
    {
     "name": "stdout",
     "output_type": "stream",
     "text": [
      "                   Team  Goals\n",
      "0               Croatia      4\n",
      "1        Czech Republic      4\n",
      "2               Denmark      4\n",
      "3               England      5\n",
      "4                France      3\n",
      "5               Germany     10\n",
      "6                Greece      5\n",
      "7                 Italy      6\n",
      "8           Netherlands      2\n",
      "9                Poland      2\n",
      "10             Portugal      6\n",
      "11  Republic of Ireland      1\n",
      "12               Russia      5\n",
      "13                Spain     12\n",
      "14               Sweden      5\n",
      "15              Ukraine      2\n"
     ]
    }
   ],
   "source": [
    "import pandas as pd\n",
    "\n",
    "def goals(input_df):\n",
    "    goals_df = input_df[['Team', 'Goals']]\n",
    "    return goals_df\n",
    "# Függvény hívása a 'euro12' DataFrame-re\n",
    "goals_data = goals(euro12)\n",
    "\n",
    "# Az eredmény DataFrame kiírása\n",
    "print(goals_data)\n"
   ]
  },
  {
   "cell_type": "code",
   "execution_count": null,
   "id": "47f914b529be356b",
   "metadata": {
    "collapsed": false
   },
   "outputs": [],
   "source": []
  },
  {
   "cell_type": "code",
   "execution_count": null,
   "id": "a35053917db8723e",
   "metadata": {
    "collapsed": false
   },
   "outputs": [],
   "source": [
    "\"\"\"\n",
    "4., Készíts egy függvényt, ami sorba rendezi az országokat a lőtt gólok száma alapján csökkenő sorrendben. Használd az előző  függvény eredményét.\n",
    "\n",
    "függvény név: sorted_by_goal\n",
    "bemenet: input_df\n",
    "kimeneti típus: pandas.core.frame.DataFrame\n",
    "\n",
    "\"\"\""
   ]
  },
  {
   "cell_type": "code",
   "execution_count": 9,
   "id": "5c764033a4ca200b",
   "metadata": {
    "collapsed": false,
    "ExecuteTime": {
     "end_time": "2023-10-11T17:24:40.880406Z",
     "start_time": "2023-10-11T17:24:40.814402Z"
    }
   },
   "outputs": [
    {
     "name": "stdout",
     "output_type": "stream",
     "text": [
      "                   Team  Goals\n",
      "13                Spain     12\n",
      "5               Germany     10\n",
      "7                 Italy      6\n",
      "10             Portugal      6\n",
      "3               England      5\n",
      "6                Greece      5\n",
      "12               Russia      5\n",
      "14               Sweden      5\n",
      "0               Croatia      4\n",
      "1        Czech Republic      4\n",
      "2               Denmark      4\n",
      "4                France      3\n",
      "8           Netherlands      2\n",
      "9                Poland      2\n",
      "15              Ukraine      2\n",
      "11  Republic of Ireland      1\n"
     ]
    }
   ],
   "source": [
    "import pandas as pd\n",
    "\n",
    "def sorted_by_goal(input_df):\n",
    "    sorted_df = input_df.sort_values(by='Goals', ascending=False)\n",
    "    return sorted_df\n",
    "# Függvény hívása a 'goals_data' DataFrame-re\n",
    "sorted_goals_data = sorted_by_goal(goals_data)\n",
    "\n",
    "# Az eredmény DataFrame kiírása\n",
    "print(sorted_goals_data)\n"
   ]
  },
  {
   "cell_type": "code",
   "execution_count": null,
   "id": "a10e9e934b2a98b8",
   "metadata": {
    "collapsed": false
   },
   "outputs": [],
   "source": []
  },
  {
   "cell_type": "code",
   "execution_count": null,
   "id": "30fd1aa0c59afb47",
   "metadata": {
    "collapsed": false
   },
   "outputs": [],
   "source": [
    "\"\"\"\n",
    "5., Készíts egy függvényt, ami visszaadja az átlagos gól számot.\n",
    "\n",
    "függvény név: avg_goal\n",
    "bemenet: input_df\n",
    "kimeneti típus: float\n",
    "\n",
    "\"\"\""
   ]
  },
  {
   "cell_type": "code",
   "execution_count": 12,
   "id": "44865d1982f4fe17",
   "metadata": {
    "collapsed": false,
    "ExecuteTime": {
     "end_time": "2023-10-11T17:35:37.052131Z",
     "start_time": "2023-10-11T17:35:37.026711Z"
    }
   },
   "outputs": [
    {
     "name": "stdout",
     "output_type": "stream",
     "text": [
      "Az átlagos gól szám:  4.75\n"
     ]
    }
   ],
   "source": [
    "import pandas as pd\n",
    "\n",
    "def avg_goal(input_df):\n",
    "    # Az átlagos gólszám kiszámítása\n",
    "    avg_goals = input_df['Goals'].mean()\n",
    "    return avg_goals\n"
   ]
  },
  {
   "cell_type": "code",
   "execution_count": 10,
   "id": "8d4529f9fc423a7",
   "metadata": {
    "collapsed": false,
    "ExecuteTime": {
     "end_time": "2023-10-11T17:25:05.278295Z",
     "start_time": "2023-10-11T17:25:05.218587Z"
    }
   },
   "outputs": [
    {
     "ename": "NameError",
     "evalue": "name 'avg_goal' is not defined",
     "output_type": "error",
     "traceback": [
      "\u001B[0;31m---------------------------------------------------------------------------\u001B[0m",
      "\u001B[0;31mNameError\u001B[0m                                 Traceback (most recent call last)",
      "Cell \u001B[0;32mIn[10], line 2\u001B[0m\n\u001B[1;32m      1\u001B[0m \u001B[38;5;66;03m# Függvény hívása a 'euro12' DataFrame-re\u001B[39;00m\n\u001B[0;32m----> 2\u001B[0m average_goals \u001B[38;5;241m=\u001B[39m \u001B[43mavg_goal\u001B[49m(euro12)\n\u001B[1;32m      4\u001B[0m \u001B[38;5;28mprint\u001B[39m(\u001B[38;5;124m\"\u001B[39m\u001B[38;5;124mAz átlagos gól szám: \u001B[39m\u001B[38;5;124m\"\u001B[39m, average_goals)\n",
      "\u001B[0;31mNameError\u001B[0m: name 'avg_goal' is not defined"
     ]
    }
   ],
   "source": [
    "# Függvény hívása a 'euro12' DataFrame-re\n",
    "average_goals = avg_goal(euro12)\n",
    "\n",
    "print(\"Az átlagos gól szám: \", average_goals)\n"
   ]
  },
  {
   "cell_type": "code",
   "execution_count": null,
   "id": "4637c401e0e6352c",
   "metadata": {
    "collapsed": false
   },
   "outputs": [],
   "source": [
    "\"\"\"\n",
    "6., Készíts egy függvényt, ami visszadja azokat az országokat akik 6 vagy több gólt rúgtak\n",
    "\n",
    "függvény név: countries_over_five\n",
    "bement: input_df\n",
    "kimeneti típus: pandas.core.frame.DataFrame\n",
    "\n",
    "\"\"\""
   ]
  },
  {
   "cell_type": "code",
   "execution_count": 13,
   "id": "f1dd81478909c86c",
   "metadata": {
    "collapsed": false,
    "ExecuteTime": {
     "end_time": "2023-10-11T17:36:28.455890Z",
     "start_time": "2023-10-11T17:36:28.378833Z"
    }
   },
   "outputs": [
    {
     "name": "stdout",
     "output_type": "stream",
     "text": [
      "        Team  Goals  Shots on target  Shots off target Shooting Accuracy  \\\n",
      "5    Germany     10               32                32             47.8%   \n",
      "7      Italy      6               34                45             43.0%   \n",
      "10  Portugal      6               22                42             34.3%   \n",
      "13     Spain     12               42                33             55.9%   \n",
      "\n",
      "   % Goals-to-shots  Total shots (inc. Blocked)  Hit Woodwork  Penalty goals  \\\n",
      "5             15.6%                          80             2              1   \n",
      "7              7.5%                         110             2              0   \n",
      "10             9.3%                          82             6              0   \n",
      "13            16.0%                         100             0              1   \n",
      "\n",
      "    Penalties not scored  ...  Saves made  Saves-to-shots ratio  Fouls Won  \\\n",
      "5                      0  ...          10                 62.6%         63   \n",
      "7                      0  ...          20                 74.1%        101   \n",
      "10                     0  ...          10                 71.5%         73   \n",
      "13                     0  ...          15                 93.8%        102   \n",
      "\n",
      "   Fouls Conceded  Offsides  Yellow Cards  Red Cards  Subs on  Subs off  \\\n",
      "5              49        12             4          0       15        15   \n",
      "7              89        16            16          0       18        18   \n",
      "10             90        10            12          0       14        14   \n",
      "13             83        19            11          0       17        17   \n",
      "\n",
      "    Players Used  \n",
      "5             17  \n",
      "7             19  \n",
      "10            16  \n",
      "13            18  \n",
      "\n",
      "[4 rows x 35 columns]\n"
     ]
    }
   ],
   "source": [
    "import pandas as pd\n",
    "\n",
    "def countries_over_five(input_df):\n",
    "    selected_countries = input_df[input_df['Goals'] >= 6]\n",
    "    return selected_countries\n",
    "# Függvény hívása a 'euro12' DataFrame-re\n",
    "selected_countries_data = countries_over_five(euro12)\n",
    "\n",
    "# Az eredmény DataFrame kiírása\n",
    "print(selected_countries_data)"
   ]
  },
  {
   "cell_type": "code",
   "execution_count": null,
   "id": "5c1dc290a99cf46c",
   "metadata": {
    "collapsed": false
   },
   "outputs": [],
   "source": [
    "# Függvény hívása a 'euro12' DataFrame-re\n",
    "selected_countries_data = countries_over_five(euro12)\n",
    "\n",
    "# Az eredmény DataFrame kiírása\n",
    "print(selected_countries_data)\n"
   ]
  },
  {
   "cell_type": "code",
   "execution_count": null,
   "id": "ff27a788246be43c",
   "metadata": {
    "collapsed": false
   },
   "outputs": [],
   "source": [
    "\"\"\"\n",
    "7., Készíts egy függvényt, ami visszaadja azon országok neveit, amelyek neve 'G'-vel kezdődik\n",
    "\n",
    "fv. neve: countries_starting_with_g\n",
    "bemenet: input_df\n",
    "kimeneti típus: pandas.core.frame.DataFrame\n",
    "\"\"\""
   ]
  },
  {
   "cell_type": "code",
   "execution_count": null,
   "id": "2ebc475c23f0de6e",
   "metadata": {
    "collapsed": false
   },
   "outputs": [],
   "source": [
    "import pandas as pd\n",
    "\n",
    "def countries_starting_with_g(input_df):\n",
    "    # Azoknak az országoknak a DataFrame-je, amelyek neve 'G'-vel kezdődik\n",
    "    selected_countries = input_df[input_df['Team'].str.startswith('G')]\n",
    "    return selected_countries\n"
   ]
  },
  {
   "cell_type": "code",
   "execution_count": null,
   "id": "a4eef25889cb8347",
   "metadata": {
    "collapsed": false
   },
   "outputs": [],
   "source": [
    "# Függvény hívása a 'euro12' DataFrame-re\n",
    "selected_countries_data = countries_starting_with_g(euro12)\n",
    "\n",
    "# Az eredmény DataFrame kiírása\n",
    "print(selected_countries_data)\n"
   ]
  },
  {
   "cell_type": "code",
   "execution_count": null,
   "id": "2293e3b440a8ae85",
   "metadata": {
    "collapsed": false
   },
   "outputs": [],
   "source": [
    "\"\"\"\n",
    "8. Készíts egy függvényt, ami visszaadja az első 7 oszlopot. Használja a kiinduló adatokat\n",
    "\n",
    "fv. név: first_seven_columns\n",
    "bemenet: input_df\n",
    "return típus: pandas.core.frame.DataFrame\n",
    "\n",
    "\"\"\""
   ]
  },
  {
   "cell_type": "code",
   "execution_count": 14,
   "id": "a192f2eebf0bb24d",
   "metadata": {
    "collapsed": false,
    "ExecuteTime": {
     "end_time": "2023-10-11T17:38:36.711100Z",
     "start_time": "2023-10-11T17:38:36.630959Z"
    }
   },
   "outputs": [
    {
     "name": "stdout",
     "output_type": "stream",
     "text": [
      "                   Team  Goals  Shots on target  Shots off target  \\\n",
      "0               Croatia      4               13                12   \n",
      "1        Czech Republic      4               13                18   \n",
      "2               Denmark      4               10                10   \n",
      "3               England      5               11                18   \n",
      "4                France      3               22                24   \n",
      "5               Germany     10               32                32   \n",
      "6                Greece      5                8                18   \n",
      "7                 Italy      6               34                45   \n",
      "8           Netherlands      2               12                36   \n",
      "9                Poland      2               15                23   \n",
      "10             Portugal      6               22                42   \n",
      "11  Republic of Ireland      1                7                12   \n",
      "12               Russia      5                9                31   \n",
      "13                Spain     12               42                33   \n",
      "14               Sweden      5               17                19   \n",
      "15              Ukraine      2                7                26   \n",
      "\n",
      "   Shooting Accuracy % Goals-to-shots  Total shots (inc. Blocked)  \n",
      "0              51.9%            16.0%                          32  \n",
      "1              41.9%            12.9%                          39  \n",
      "2              50.0%            20.0%                          27  \n",
      "3              50.0%            17.2%                          40  \n",
      "4              37.9%             6.5%                          65  \n",
      "5              47.8%            15.6%                          80  \n",
      "6              30.7%            19.2%                          32  \n",
      "7              43.0%             7.5%                         110  \n",
      "8              25.0%             4.1%                          60  \n",
      "9              39.4%             5.2%                          48  \n",
      "10             34.3%             9.3%                          82  \n",
      "11             36.8%             5.2%                          28  \n",
      "12             22.5%            12.5%                          59  \n",
      "13             55.9%            16.0%                         100  \n",
      "14             47.2%            13.8%                          39  \n",
      "15             21.2%             6.0%                          38  \n"
     ]
    }
   ],
   "source": [
    "import pandas as pd\n",
    "\n",
    "def first_seven_columns(input_df):\n",
    "    selected_columns = input_df.iloc[:, :7]\n",
    "    return selected_columns\n",
    "\n"
   ]
  },
  {
   "cell_type": "code",
   "execution_count": null,
   "id": "dc174ca46e9dea9b",
   "metadata": {
    "collapsed": false
   },
   "outputs": [],
   "source": [
    "# Függvény hívása a 'euro12' DataFrame-re\n",
    "selected_columns_data = first_seven_columns(euro12)\n",
    "\n",
    "# Az eredmény DataFrame kiírása\n",
    "print(selected_columns_data)\n"
   ]
  },
  {
   "cell_type": "code",
   "execution_count": null,
   "id": "a9a68b16090a09f7",
   "metadata": {
    "collapsed": false
   },
   "outputs": [],
   "source": [
    "\"\"\"\n",
    "9. Készíts egy függvényt, ami visszaadja az összes oszlopot az utolsó 3-on kívül. Használja a kiinduló adatokat\n",
    "\n",
    "fv. név: every_column_except_last_three\n",
    "bemenet: input_df\n",
    "return típus: pandas.core.frame.DataFrame\n",
    "\n",
    "\"\"\""
   ]
  },
  {
   "cell_type": "code",
   "execution_count": 15,
   "id": "1d0754a3513e5eec",
   "metadata": {
    "collapsed": false,
    "ExecuteTime": {
     "end_time": "2023-10-11T17:39:36.712004Z",
     "start_time": "2023-10-11T17:39:36.692806Z"
    }
   },
   "outputs": [
    {
     "name": "stdout",
     "output_type": "stream",
     "text": [
      "                   Team  Goals  Shots on target  Shots off target  \\\n",
      "0               Croatia      4               13                12   \n",
      "1        Czech Republic      4               13                18   \n",
      "2               Denmark      4               10                10   \n",
      "3               England      5               11                18   \n",
      "4                France      3               22                24   \n",
      "5               Germany     10               32                32   \n",
      "6                Greece      5                8                18   \n",
      "7                 Italy      6               34                45   \n",
      "8           Netherlands      2               12                36   \n",
      "9                Poland      2               15                23   \n",
      "10             Portugal      6               22                42   \n",
      "11  Republic of Ireland      1                7                12   \n",
      "12               Russia      5                9                31   \n",
      "13                Spain     12               42                33   \n",
      "14               Sweden      5               17                19   \n",
      "15              Ukraine      2                7                26   \n",
      "\n",
      "   Shooting Accuracy % Goals-to-shots  Total shots (inc. Blocked)  \\\n",
      "0              51.9%            16.0%                          32   \n",
      "1              41.9%            12.9%                          39   \n",
      "2              50.0%            20.0%                          27   \n",
      "3              50.0%            17.2%                          40   \n",
      "4              37.9%             6.5%                          65   \n",
      "5              47.8%            15.6%                          80   \n",
      "6              30.7%            19.2%                          32   \n",
      "7              43.0%             7.5%                         110   \n",
      "8              25.0%             4.1%                          60   \n",
      "9              39.4%             5.2%                          48   \n",
      "10             34.3%             9.3%                          82   \n",
      "11             36.8%             5.2%                          28   \n",
      "12             22.5%            12.5%                          59   \n",
      "13             55.9%            16.0%                         100   \n",
      "14             47.2%            13.8%                          39   \n",
      "15             21.2%             6.0%                          38   \n",
      "\n",
      "    Hit Woodwork  Penalty goals  Penalties not scored  ...  Clean Sheets  \\\n",
      "0              0              0                     0  ...             0   \n",
      "1              0              0                     0  ...             1   \n",
      "2              1              0                     0  ...             1   \n",
      "3              0              0                     0  ...             2   \n",
      "4              1              0                     0  ...             1   \n",
      "5              2              1                     0  ...             1   \n",
      "6              1              1                     1  ...             1   \n",
      "7              2              0                     0  ...             2   \n",
      "8              2              0                     0  ...             0   \n",
      "9              0              0                     0  ...             0   \n",
      "10             6              0                     0  ...             2   \n",
      "11             0              0                     0  ...             0   \n",
      "12             2              0                     0  ...             0   \n",
      "13             0              1                     0  ...             5   \n",
      "14             3              0                     0  ...             1   \n",
      "15             0              0                     0  ...             0   \n",
      "\n",
      "    Blocks  Goals conceded Saves made  Saves-to-shots ratio  Fouls Won  \\\n",
      "0       10               3         13                 81.3%         41   \n",
      "1       10               6          9                 60.1%         53   \n",
      "2       10               5         10                 66.7%         25   \n",
      "3       29               3         22                 88.1%         43   \n",
      "4        7               5          6                 54.6%         36   \n",
      "5       11               6         10                 62.6%         63   \n",
      "6       23               7         13                 65.1%         67   \n",
      "7       18               7         20                 74.1%        101   \n",
      "8        9               5         12                 70.6%         35   \n",
      "9        8               3          6                 66.7%         48   \n",
      "10      11               4         10                 71.5%         73   \n",
      "11      23               9         17                 65.4%         43   \n",
      "12       8               3         10                 77.0%         34   \n",
      "13       8               1         15                 93.8%        102   \n",
      "14      12               5          8                 61.6%         35   \n",
      "15       4               4         13                 76.5%         48   \n",
      "\n",
      "    Fouls Conceded  Offsides  Yellow Cards  Red Cards  \n",
      "0               62         2             9          0  \n",
      "1               73         8             7          0  \n",
      "2               38         8             4          0  \n",
      "3               45         6             5          0  \n",
      "4               51         5             6          0  \n",
      "5               49        12             4          0  \n",
      "6               48        12             9          1  \n",
      "7               89        16            16          0  \n",
      "8               30         3             5          0  \n",
      "9               56         3             7          1  \n",
      "10              90        10            12          0  \n",
      "11              51        11             6          1  \n",
      "12              43         4             6          0  \n",
      "13              83        19            11          0  \n",
      "14              51         7             7          0  \n",
      "15              31         4             5          0  \n",
      "\n",
      "[16 rows x 32 columns]\n"
     ]
    }
   ],
   "source": [
    "import pandas as pd\n",
    "\n",
    "def every_column_except_last_three(input_df):\n",
    "    selected_columns = input_df.iloc[:, :-3]\n",
    "    return selected_columns\n"
   ]
  },
  {
   "cell_type": "code",
   "execution_count": null,
   "id": "64582e56a87a8160",
   "metadata": {
    "collapsed": false
   },
   "outputs": [],
   "source": [
    "# Függvény hívása a 'euro12' DataFrame-re\n",
    "selected_columns_data = every_column_except_last_three(euro12)\n",
    "\n",
    "# Az eredmény DataFrame kiírása\n",
    "print(selected_columns_data)\n"
   ]
  },
  {
   "cell_type": "code",
   "execution_count": null,
   "id": "376c202b0fe487aa",
   "metadata": {
    "collapsed": false
   },
   "outputs": [],
   "source": [
    "\"\"\"\n",
    "10. Készíts egy függvényt, amely tetszőleges oszlopokat és sorokat ad vissza a bemeneti adatokból. A sorokat és oszlopokat listák formájában adjuk be a függvénynek. A sorokat egy bemeneti oszlop alapján szűrjük\n",
    "\n",
    "fv. név: sliced_view\n",
    "bemenet: input_df, columns_to_keep, column_to_filter, rows_to_keep\n",
    "return type: pandas.core.frame.DataFrame\n",
    "\n",
    "\"\"\""
   ]
  },
  {
   "cell_type": "code",
   "execution_count": 31,
   "id": "3596668112e27e6",
   "metadata": {
    "collapsed": false,
    "ExecuteTime": {
     "end_time": "2023-10-11T18:00:29.419364Z",
     "start_time": "2023-10-11T18:00:29.391228Z"
    }
   },
   "outputs": [],
   "source": [
    "import pandas as pd\n",
    "\n",
    "def sliced_view(input_df, columns_to_keep, column_to_filter, rows_to_keep):\n",
    "    # Az oszlopokat tartalmazó DataFrame létrehozása\n",
    "    selected_columns_df = input_df[columns_to_keep]\n",
    "\n",
    "    # Az oszlop alapján szűrt sorok DataFrame-je\n",
    "    filtered_rows_df = selected_columns_df[input_df[column_to_filter].isin(rows_to_keep)]\n",
    "\n",
    "    return filtered_rows_df\n",
    "\n",
    "# Példa használat:\n",
    "if __name__ == \"__main\":\n",
    "    # Az eredeti DataFrame példányosítása (euro12 helyett más DataFrame)\n",
    "    euro12 = pd.DataFrame({'Team': ['A', 'B', 'C', 'D'],\n",
    "                           'Goals': [10, 5, 8, 2],\n",
    "                           'Shots on target': [15, 7, 10, 3],\n",
    "                           'Yellow Cards': [2, 3, 4, 1]})\n",
    "\n",
    "    # Kiválasztott oszlopok és szűrési feltételek\n",
    "    columns_to_keep = ['Team', 'Goals', 'Shots on target']\n",
    "    column_to_filter = 'Goals'\n",
    "    rows_to_keep = [5, 8]\n",
    "\n",
    "    # A függvény hívása\n",
    "    result_df = sliced_view(euro12, columns_to_keep, column_to_filter, rows_to_keep)\n",
    "\n",
    "    print(result_df)\n",
    "\n"
   ]
  },
  {
   "cell_type": "code",
   "execution_count": null,
   "id": "6e731f8b0d4c77ee",
   "metadata": {
    "collapsed": false
   },
   "outputs": [],
   "source": []
  },
  {
   "cell_type": "code",
   "execution_count": null,
   "id": "47d70863b98e7ae3",
   "metadata": {
    "collapsed": false
   },
   "outputs": [],
   "source": [
    "\"\"\"\n",
    "11. Készíts egy függvényt, ami a bemeneti adatokat kiegészíti egy 'Quartile' oszloppal. A kvartilis oszlop értékeit a lőtt gólok alapján határozza meg:\n",
    "\n",
    "6 - 12: 1\n",
    "5 - 5: 2\n",
    "3 - 4: 3\n",
    "0 - 2: 4\n",
    "\n",
    "fv. név: generate_quartile\n",
    "bemenet: input_df\n",
    "return type: pandas.core.frame.DataFrame\n",
    "\n",
    "\"\"\""
   ]
  },
  {
   "cell_type": "code",
   "execution_count": 20,
   "id": "21d385ae84f4114d",
   "metadata": {
    "collapsed": false,
    "ExecuteTime": {
     "end_time": "2023-10-11T17:41:50.011841Z",
     "start_time": "2023-10-11T17:41:49.965797Z"
    }
   },
   "outputs": [
    {
     "name": "stdout",
     "output_type": "stream",
     "text": [
      "                   Team  Goals  Shots on target  Shots off target  \\\n",
      "0               Croatia      4               13                12   \n",
      "1        Czech Republic      4               13                18   \n",
      "2               Denmark      4               10                10   \n",
      "3               England      5               11                18   \n",
      "4                France      3               22                24   \n",
      "5               Germany     10               32                32   \n",
      "6                Greece      5                8                18   \n",
      "7                 Italy      6               34                45   \n",
      "8           Netherlands      2               12                36   \n",
      "9                Poland      2               15                23   \n",
      "10             Portugal      6               22                42   \n",
      "11  Republic of Ireland      1                7                12   \n",
      "12               Russia      5                9                31   \n",
      "13                Spain     12               42                33   \n",
      "14               Sweden      5               17                19   \n",
      "15              Ukraine      2                7                26   \n",
      "\n",
      "   Shooting Accuracy % Goals-to-shots  Total shots (inc. Blocked)  \\\n",
      "0              51.9%            16.0%                          32   \n",
      "1              41.9%            12.9%                          39   \n",
      "2              50.0%            20.0%                          27   \n",
      "3              50.0%            17.2%                          40   \n",
      "4              37.9%             6.5%                          65   \n",
      "5              47.8%            15.6%                          80   \n",
      "6              30.7%            19.2%                          32   \n",
      "7              43.0%             7.5%                         110   \n",
      "8              25.0%             4.1%                          60   \n",
      "9              39.4%             5.2%                          48   \n",
      "10             34.3%             9.3%                          82   \n",
      "11             36.8%             5.2%                          28   \n",
      "12             22.5%            12.5%                          59   \n",
      "13             55.9%            16.0%                         100   \n",
      "14             47.2%            13.8%                          39   \n",
      "15             21.2%             6.0%                          38   \n",
      "\n",
      "    Hit Woodwork  Penalty goals  Penalties not scored  ...  \\\n",
      "0              0              0                     0  ...   \n",
      "1              0              0                     0  ...   \n",
      "2              1              0                     0  ...   \n",
      "3              0              0                     0  ...   \n",
      "4              1              0                     0  ...   \n",
      "5              2              1                     0  ...   \n",
      "6              1              1                     1  ...   \n",
      "7              2              0                     0  ...   \n",
      "8              2              0                     0  ...   \n",
      "9              0              0                     0  ...   \n",
      "10             6              0                     0  ...   \n",
      "11             0              0                     0  ...   \n",
      "12             2              0                     0  ...   \n",
      "13             0              1                     0  ...   \n",
      "14             3              0                     0  ...   \n",
      "15             0              0                     0  ...   \n",
      "\n",
      "    Saves-to-shots ratio  Fouls Won  Fouls Conceded Offsides  Yellow Cards  \\\n",
      "0                  81.3%         41              62        2             9   \n",
      "1                  60.1%         53              73        8             7   \n",
      "2                  66.7%         25              38        8             4   \n",
      "3                  88.1%         43              45        6             5   \n",
      "4                  54.6%         36              51        5             6   \n",
      "5                  62.6%         63              49       12             4   \n",
      "6                  65.1%         67              48       12             9   \n",
      "7                  74.1%        101              89       16            16   \n",
      "8                  70.6%         35              30        3             5   \n",
      "9                  66.7%         48              56        3             7   \n",
      "10                 71.5%         73              90       10            12   \n",
      "11                 65.4%         43              51       11             6   \n",
      "12                 77.0%         34              43        4             6   \n",
      "13                 93.8%        102              83       19            11   \n",
      "14                 61.6%         35              51        7             7   \n",
      "15                 76.5%         48              31        4             5   \n",
      "\n",
      "    Red Cards  Subs on  Subs off  Players Used  Quartile  \n",
      "0           0        9         9            16         3  \n",
      "1           0       11        11            19         3  \n",
      "2           0        7         7            15         3  \n",
      "3           0       11        11            16         2  \n",
      "4           0       11        11            19         3  \n",
      "5           0       15        15            17         1  \n",
      "6           1       12        12            20         2  \n",
      "7           0       18        18            19         1  \n",
      "8           0        7         7            15         4  \n",
      "9           1        7         7            17         4  \n",
      "10          0       14        14            16         1  \n",
      "11          1       10        10            17         4  \n",
      "12          0        7         7            16         2  \n",
      "13          0       17        17            18         1  \n",
      "14          0        9         9            18         2  \n",
      "15          0        9         9            18         4  \n",
      "\n",
      "[16 rows x 36 columns]\n"
     ]
    }
   ],
   "source": [
    "import pandas as pd\n",
    "\n",
    "def generate_quartile(input_df):\n",
    "    # A 'Quartile' oszlop létrehozása a lőtt gólok alapján\n",
    "    input_df['Quartile'] = pd.cut(input_df['Goals'], [-1, 2, 4, 5, 12], labels=[4, 3, 2, 1], include_lowest=True)\n",
    "    return input_df\n"
   ]
  },
  {
   "cell_type": "code",
   "execution_count": null,
   "id": "3ad4b27111f25648",
   "metadata": {
    "collapsed": false
   },
   "outputs": [],
   "source": [
    "# Függvény hívása a 'euro12' DataFrame-re\n",
    "data_with_quartile = generate_quartile(euro12)\n",
    "\n",
    "# Az eredmény DataFrame kiírása\n",
    "print(data_with_quartile)\n"
   ]
  },
  {
   "cell_type": "code",
   "execution_count": null,
   "id": "bb70c884473a7679",
   "metadata": {
    "collapsed": false
   },
   "outputs": [],
   "source": [
    "\"\"\"\n",
    "12., Készíts egy függvényt, ami minden kvartilis értékhez kiszámítja, hogy átlagosan hány passzot adtak.\n",
    "\n",
    "fn név: average_yellow_in_quartiles\n",
    "bemenet: input_df\n",
    "return type: pandas.core.frame.DataFrame\n",
    "\n",
    "\"\"\""
   ]
  },
  {
   "cell_type": "code",
   "execution_count": 21,
   "id": "dad25f20c5ac3ec6",
   "metadata": {
    "collapsed": false,
    "ExecuteTime": {
     "end_time": "2023-10-11T17:43:48.538914Z",
     "start_time": "2023-10-11T17:43:48.475545Z"
    }
   },
   "outputs": [
    {
     "name": "stdout",
     "output_type": "stream",
     "text": [
      "  Quartile  Avg Yellow Cards\n",
      "0       Q4              5.75\n",
      "1       Q3              6.50\n",
      "2       Q2              6.75\n",
      "3       Q1             10.75\n"
     ]
    },
    {
     "name": "stderr",
     "output_type": "stream",
     "text": [
      "/var/folders/k4/23hwm8ms28g12g137wd34z9c0000gn/T/ipykernel_75173/430461141.py:8: FutureWarning: The default of observed=False is deprecated and will be changed to True in a future version of pandas. Pass observed=False to retain current behavior or observed=True to adopt the future default and silence this warning.\n",
      "  avg_yellow_in_quartiles = input_df.groupby(quartiles)['Yellow Cards'].mean().reset_index()\n"
     ]
    }
   ],
   "source": [
    "import pandas as pd\n",
    "\n",
    "def average_yellow_in_quartiles(input_df):\n",
    "    # A kvartilisok számítása a 'Goals' alapján\n",
    "    quartiles = pd.qcut(input_df['Goals'], q=4, labels=['Q4', 'Q3', 'Q2', 'Q1'])\n",
    "    \n",
    "    # A kvartilisokhoz tartozó átlagos sárga lapok számítása\n",
    "    avg_yellow_in_quartiles = input_df.groupby(quartiles)['Yellow Cards'].mean().reset_index()\n",
    "    avg_yellow_in_quartiles.columns = ['Quartile', 'Avg Yellow Cards']\n",
    "    \n",
    "    return avg_yellow_in_quartiles\n"
   ]
  },
  {
   "cell_type": "code",
   "execution_count": null,
   "id": "8a8aa5257e5e9f81",
   "metadata": {
    "collapsed": false
   },
   "outputs": [],
   "source": [
    "# Függvény hívása a 'euro12' DataFrame-re\n",
    "average_yellow_data = average_yellow_in_quartiles(euro12)\n",
    "\n",
    "# Az eredmény DataFrame kiírása\n",
    "print(average_yellow_data)\n"
   ]
  },
  {
   "cell_type": "code",
   "execution_count": null,
   "id": "1fa60ba13b667576",
   "metadata": {
    "collapsed": false
   },
   "outputs": [],
   "source": [
    "\"\"\"\n",
    "13., Készíts egy függvényt ami minden kvartilis esetén visszadja a blokkok (Blocks) minimális és maximális értékét.\n",
    "\n",
    "fv. név: minmax_block_in_quartile\n",
    "bemenet: input_df\n",
    "return type: pandas.core.frame.DataFrame\n",
    "\"\"\""
   ]
  },
  {
   "cell_type": "code",
   "execution_count": 22,
   "id": "a4166f92696d8f3c",
   "metadata": {
    "collapsed": false,
    "ExecuteTime": {
     "end_time": "2023-10-11T17:45:36.313235Z",
     "start_time": "2023-10-11T17:45:36.260457Z"
    }
   },
   "outputs": [
    {
     "name": "stdout",
     "output_type": "stream",
     "text": [
      "  Quartile  Min Blocks  Max Blocks\n",
      "0       Q4           4          23\n",
      "1       Q3           7          10\n",
      "2       Q2           8          29\n",
      "3       Q1           8          18\n"
     ]
    },
    {
     "name": "stderr",
     "output_type": "stream",
     "text": [
      "/var/folders/k4/23hwm8ms28g12g137wd34z9c0000gn/T/ipykernel_75173/3724915522.py:8: FutureWarning: The default of observed=False is deprecated and will be changed to True in a future version of pandas. Pass observed=False to retain current behavior or observed=True to adopt the future default and silence this warning.\n",
      "  minmax_block_in_quartile = input_df.groupby(quartiles)['Blocks'].agg([min, max]).reset_index()\n",
      "/var/folders/k4/23hwm8ms28g12g137wd34z9c0000gn/T/ipykernel_75173/3724915522.py:8: FutureWarning: The provided callable <built-in function min> is currently using SeriesGroupBy.min. In a future version of pandas, the provided callable will be used directly. To keep current behavior pass 'min' instead.\n",
      "  minmax_block_in_quartile = input_df.groupby(quartiles)['Blocks'].agg([min, max]).reset_index()\n",
      "/var/folders/k4/23hwm8ms28g12g137wd34z9c0000gn/T/ipykernel_75173/3724915522.py:8: FutureWarning: The provided callable <built-in function max> is currently using SeriesGroupBy.max. In a future version of pandas, the provided callable will be used directly. To keep current behavior pass 'max' instead.\n",
      "  minmax_block_in_quartile = input_df.groupby(quartiles)['Blocks'].agg([min, max]).reset_index()\n"
     ]
    }
   ],
   "source": [
    "import pandas as pd\n",
    "\n",
    "def minmax_block_in_quartile(input_df):\n",
    "    # A kvartilisok számítása a 'Goals' alapján\n",
    "    quartiles = pd.qcut(input_df['Goals'], q=4, labels=['Q4', 'Q3', 'Q2', 'Q1'])\n",
    "    \n",
    "    # A kvartilisokhoz tartozó minimális és maximális 'Blocks' értékek számítása\n",
    "    minmax_block_in_quartile = input_df.groupby(quartiles)['Blocks'].agg([min, max]).reset_index()\n",
    "    minmax_block_in_quartile.columns = ['Quartile', 'Min Blocks', 'Max Blocks']\n",
    "    \n",
    "    return minmax_block_in_quartile\n"
   ]
  },
  {
   "cell_type": "code",
   "execution_count": null,
   "id": "accb935cb089b427",
   "metadata": {
    "collapsed": false
   },
   "outputs": [],
   "source": [
    "# Függvény hívása a 'euro12' DataFrame-re\n",
    "minmax_block_data = minmax_block_in_quartile(euro12)\n",
    "\n",
    "# Az eredmény DataFrame kiírása\n",
    "print(minmax_block_data)\n"
   ]
  },
  {
   "cell_type": "code",
   "execution_count": null,
   "id": "31b60fe10110736b",
   "metadata": {
    "collapsed": false
   },
   "outputs": [],
   "source": [
    "\"\"\"\n",
    "14., Készíts egy függvényt, ami scatter_plot-on ábrázolja a gólok és a kaput ért találatok kapcsolatát.\n",
    "\n",
    "fv név: scatter_goals_shots\n",
    "bemenet: input_df\n",
    "X tengelyen: Goals\n",
    "y tengelyen: Shots on target\n",
    "title: 'Goals and Shot on target'\n",
    "Tengely feliratok egyezenek meg az oszlop nevekkel\n",
    "\n",
    "return type: matplotlib.figure.Figure\n",
    "\"\"\""
   ]
  },
  {
   "cell_type": "code",
   "execution_count": 23,
   "id": "baecdf0d2d7f6fc3",
   "metadata": {
    "collapsed": false,
    "ExecuteTime": {
     "end_time": "2023-10-11T17:46:30.856708Z",
     "start_time": "2023-10-11T17:46:29.308855Z"
    }
   },
   "outputs": [
    {
     "data": {
      "text/plain": "<Figure size 800x600 with 1 Axes>",
      "image/png": "[encoded data removed]"
     },
     "metadata": {},
     "output_type": "display_data"
    }
   ],
   "source": [
    "import matplotlib.pyplot as plt\n",
    "\n",
    "def scatter_goals_shots(input_df):\n",
    "    # Scatter plot létrehozása\n",
    "    plt.figure(figsize=(8, 6))\n",
    "    plt.scatter(input_df['Goals'], input_df['Shots on target'])\n",
    "    \n",
    "    # Cím és tengelyfeliratok hozzáadása\n",
    "    plt.title('Goals and Shot on target')\n",
    "    plt.xlabel('Goals')\n",
    "    plt.ylabel('Shots on target')\n",
    "    \n",
    "    # Scatter plot megjelenítése\n",
    "    plt.show()\n",
    "\n",
    "    return plt.figure\n"
   ]
  },
  {
   "cell_type": "code",
   "execution_count": null,
   "id": "d202e423c6fac93d",
   "metadata": {
    "collapsed": false
   },
   "outputs": [],
   "source": [
    "# Függvény hívása a 'euro12' DataFrame-re\n",
    "fig = scatter_goals_shots(euro12)\n"
   ]
  },
  {
   "cell_type": "code",
   "execution_count": null,
   "id": "aab2d1aee5e62a78",
   "metadata": {
    "collapsed": false
   },
   "outputs": [],
   "source": [
    "\"\"\"\n",
    "15., Készíts egy függvényt, ami scatter_plot-on ábrázolja a gólok és a kaput ért találatok kapcsolatát. A különböző kvartiliseket különböző színek jelöljék. A színek mellett jelenjen meg jelmagyarázat.\n",
    "\n",
    "fv név: scatter_goals_shots_by_quartile\n",
    "bemenet: input_df\n",
    "X tengelyen: Goals\n",
    "y tengelyen: Shots on target\n",
    "title: 'Goals and Shot on target'\n",
    "Tengely feliratok egyezenek meg az oszlop nevekkel\n",
    "Jelmagyarázat címe: Quartiles\n",
    "\n",
    "return type: matplotlib.figure.Figure\n",
    "\"\"\""
   ]
  },
  {
   "cell_type": "code",
   "execution_count": 25,
   "id": "82b34fb7ec646847",
   "metadata": {
    "collapsed": false,
    "ExecuteTime": {
     "end_time": "2023-10-11T17:49:52.330657Z",
     "start_time": "2023-10-11T17:49:51.691236Z"
    }
   },
   "outputs": [
    {
     "data": {
      "text/plain": "<Figure size 800x600 with 1 Axes>",
      "image/png": "[encoded data removed]"
     },
     "metadata": {},
     "output_type": "display_data"
    }
   ],
   "source": [
    "import matplotlib.pyplot as plt\n",
    "\n",
    "def scatter_goals_shots_by_quartile(input_df):\n",
    "    # A kvartilisek számítása a 'Goals' alapján\n",
    "    quartiles = pd.qcut(input_df['Goals'], q=4, labels=['Q4', 'Q3', 'Q2', 'Q1'])\n",
    "    \n",
    "    # Színkódok a kvartilisek alapján\n",
    "    colors = {'Q1': 'red', 'Q2': 'blue', 'Q3': 'green', 'Q4': 'purple'}\n",
    "    \n",
    "    # Scatter plot létrehozása a kvartilisek alapján\n",
    "    plt.figure(figsize=(8, 6))\n",
    "    for quartile, color in colors.items():\n",
    "        subset = input_df[quartiles == quartile]\n",
    "        plt.scatter(subset['Goals'], subset['Shots on target'], label=quartile, c=color)\n",
    "    \n",
    "    # Cím, tengelyfeliratok és jelmagyarázat hozzáadása\n",
    "    plt.title('Goals and Shot on target')\n",
    "    plt.xlabel('Goals')\n",
    "    plt.ylabel('Shots on target')\n",
    "    plt.legend(title='Quartiles')\n",
    "    \n",
    "    # Scatter plot megjelenítése\n",
    "    plt.show()\n",
    "\n",
    "    return plt.figure\n",
    "\n",
    "# Függvény hívása a 'euro12' DataFrame-re\n",
    "fig = scatter_goals_shots_by_quartile(euro12)"
   ]
  },
  {
   "cell_type": "code",
   "execution_count": null,
   "id": "dac4a005197f4a91",
   "metadata": {
    "collapsed": false
   },
   "outputs": [],
   "source": [
    "# Függvény hívása a 'euro12' DataFrame-re\n",
    "fig = scatter_goals_shots_by_quartile(euro12)\n"
   ]
  },
  {
   "cell_type": "code",
   "execution_count": null,
   "id": "10b9f08f28204e28",
   "metadata": {
    "collapsed": false
   },
   "outputs": [],
   "source": [
    "\"\"\"\n",
    "16. Készíts egy függvényt, ami létrehoz egy listát, benne number_of_trajectories db listával. A belső listák létrehozásának logikája a következő:\n",
    "    A bemeneti paraméterként kapott pareto_distribution osztály felhasználásával (ParetoDistribution 1,1 paraméterekkel) generálj length_of_trajectory véletlen számot\n",
    "    A belső lista tartalmazza a generált számok kumulatív átlagát.\n",
    "    Ismételd meg number_of_trajectories alkalommal (mindegyik belső listába egyszer)\n",
    "    A seed értéke legyen 42.\n",
    "\n",
    "függvény bemenete: pareto_distribution, number_of_trajectories, length_of_trajectory\n",
    "kimeneti típus: List    \n",
    "függvény neve: gen_pareto_mean_trajectories\n",
    "\"\"\""
   ]
  },
  {
   "cell_type": "code",
   "execution_count": 27,
   "id": "bededb488887a09d",
   "metadata": {
    "collapsed": false,
    "ExecuteTime": {
     "end_time": "2023-10-11T17:52:46.044889Z",
     "start_time": "2023-10-11T17:52:45.988673Z"
    }
   },
   "outputs": [
    {
     "ename": "ModuleNotFoundError",
     "evalue": "No module named 'src.distributions'",
     "output_type": "error",
     "traceback": [
      "\u001B[0;31m---------------------------------------------------------------------------\u001B[0m",
      "\u001B[0;31mModuleNotFoundError\u001B[0m                       Traceback (most recent call last)",
      "Cell \u001B[0;32mIn[27], line 20\u001B[0m\n\u001B[1;32m     16\u001B[0m         trajectories\u001B[38;5;241m.\u001B[39mappend(trajectory)\n\u001B[1;32m     18\u001B[0m     \u001B[38;5;28;01mreturn\u001B[39;00m trajectories\n\u001B[0;32m---> 20\u001B[0m \u001B[38;5;28;01mfrom\u001B[39;00m \u001B[38;5;21;01msrc\u001B[39;00m\u001B[38;5;21;01m.\u001B[39;00m\u001B[38;5;21;01mdistributions\u001B[39;00m \u001B[38;5;28;01mimport\u001B[39;00m ParetoDistribution\n\u001B[1;32m     22\u001B[0m pareto \u001B[38;5;241m=\u001B[39m ParetoDistribution(\u001B[38;5;241m1\u001B[39m, \u001B[38;5;241m1\u001B[39m)\n\u001B[1;32m     23\u001B[0m number_of_trajectories \u001B[38;5;241m=\u001B[39m \u001B[38;5;241m5\u001B[39m\n",
      "\u001B[0;31mModuleNotFoundError\u001B[0m: No module named 'src.distributions'"
     ]
    }
   ],
   "source": [
    "import random\n",
    "\n",
    "def gen_pareto_mean_trajectories(pareto_distribution, number_of_trajectories, length_of_trajectory):\n",
    "    random.seed(42)\n",
    "    trajectories = []\n",
    "    \n",
    "    for _ in range(number_of_trajectories):\n",
    "        trajectory = []\n",
    "        cumulative_sum = 0\n",
    "        \n",
    "        for _ in range(length_of_trajectory):\n",
    "            generated_value = pareto_distribution(1, 1)\n",
    "            cumulative_sum += generated_value\n",
    "            trajectory.append(cumulative_sum)\n",
    "        \n",
    "        trajectories.append(trajectory)\n",
    "    \n",
    "    return trajectories\n",
    "\n",
    "from src.distributions import ParetoDistribution\n",
    "\n",
    "pareto = ParetoDistribution(1, 1)\n",
    "number_of_trajectories = 5\n",
    "length_of_trajectory = 10\n",
    "\n",
    "trajectories = gen_pareto_mean_trajectories(pareto, number_of_trajectories, length_of_trajectory)\n",
    "\n",
    "for i, trajectory in enumerate(trajectories):\n",
    "    print(f'Trajectory {i + 1}: {trajectory}')\n",
    "\n"
   ]
  },
  {
   "cell_type": "code",
   "execution_count": 29,
   "id": "d47adf97603987b3",
   "metadata": {
    "collapsed": false,
    "ExecuteTime": {
     "end_time": "2023-10-11T17:57:35.010118Z",
     "start_time": "2023-10-11T17:57:34.982791Z"
    }
   },
   "outputs": [
    {
     "name": "stdout",
     "output_type": "stream",
     "text": [
      "Trajectory 1: [2.773361957358876, 3.799014296968406, 5.178380422161798, 6.465730864696091, 10.260382734804772, 13.35348021253165, 22.628160147616086, 23.72337702435588, 25.45324684828793, 26.48395921072912]\n",
      "Trajectory 2: [1.2798164842329627, 3.301469553494851, 4.328728875727071, 5.576915339877646, 8.433115143330753, 10.630634709222146, 11.913410631458829, 14.34807450234387, 19.59550272496084, 20.602043994779443]\n",
      "Trajectory 3: [5.14984111163784, 8.462628482354857, 9.978355322673439, 11.16245920147464, 34.534083470289, 36.041457268066665, 37.1436842379884, 38.25075622994417, 44.807891045555905, 47.331397708002996]\n",
      "Trajectory 4: [5.184793110825438, 8.884821270878124, 11.041053637639347, 48.237572788589304, 49.84667225173895, 52.07901757100816, 57.940842547764916, 60.56221024949406, 67.79322902228341, 70.15926492848128]\n",
      "Trajectory 5: [3.3849176300181667, 4.432942734486069, 5.728108861519216, 7.13534649440399, 8.222057297746991, 9.525482898698046, 10.637831719612647, 12.022822634498098, 14.767695820000352, 16.34208288258566]\n"
     ]
    }
   ],
   "source": [
    "import random\n",
    "\n",
    "class ParetoDistribution:\n",
    "    def __init__(self, alpha, beta):\n",
    "        self.alpha = alpha\n",
    "        self.beta = beta\n",
    "\n",
    "    def __call__(self, size):\n",
    "        return [random.paretovariate(self.alpha) * self.beta for _ in range(size)]\n",
    "\n",
    "def gen_pareto_mean_trajectories(pareto_distribution, number_of_trajectories, length_of_trajectory):\n",
    "    random.seed(42)\n",
    "    trajectories = []\n",
    "    \n",
    "    for _ in range(number_of_trajectories):\n",
    "        trajectory = []\n",
    "        cumulative_sum = 0  # Kezdeti érték: 0\n",
    "        \n",
    "        for _ in range(length_of_trajectory):\n",
    "            generated_value = pareto_distribution(1)[0]  \n",
    "            cumulative_sum += generated_value\n",
    "            trajectory.append(cumulative_sum)\n",
    "        \n",
    "        trajectories.append(trajectory)\n",
    "    \n",
    "    return trajectories\n",
    "\n",
    "if __name__ == \"__main__\":\n",
    "    pareto = ParetoDistribution(1, 1)\n",
    "    number_of_trajectories = 5\n",
    "    length_of_trajectory = 10\n",
    "\n",
    "    trajectories = gen_pareto_mean_trajectories(pareto, number_of_trajectories, length_of_trajectory)\n",
    "\n",
    "    for i, trajectory in enumerate(trajectories):\n",
    "        print(f'Trajectory {i + 1}: {trajectory}')\n",
    "\n"
   ]
  },
  {
   "cell_type": "code",
   "execution_count": null,
   "outputs": [],
   "source": [],
   "metadata": {
    "collapsed": false
   },
   "id": "130b4bee413e2d11"
  }
 ],
 "metadata": {
  "kernelspec": {
   "display_name": "Python 3 (ipykernel)",
   "language": "python",
   "name": "python3"
  },
  "language_info": {
   "codemirror_mode": {
    "name": "ipython",
    "version": 3
   },
   "file_extension": ".py",
   "mimetype": "text/x-python",
   "name": "python",
   "nbconvert_exporter": "python",
   "pygments_lexer": "ipython3",
   "version": "3.10.4"
  }
 },
 "nbformat": 4,
 "nbformat_minor": 5
}
