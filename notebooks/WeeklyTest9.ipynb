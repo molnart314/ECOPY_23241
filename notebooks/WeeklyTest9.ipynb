{
 "cells": [
  {
   "cell_type": "markdown",
   "id": "de9d9737616514b8",
   "metadata": {
    "collapsed": false
   },
   "source": [
    "Az osztály(oka)t mentsd a __src/linear_regression__ modul __LinearRegressions.py__ fájljába\n",
    "Használható modulok: _pathlib, pandas, typing, str, numpy, scipy.stats t_ és _norm_, valamint a _scipy.optimize_ _minimize_ osztályai "
   ]
  },
  {
   "cell_type": "code",
   "execution_count": null,
   "outputs": [],
   "source": [
    "%load_ext nb_black\n",
    "%load_ext autoreload\n",
    "%autoreload 2"
   ],
   "metadata": {
    "collapsed": false
   },
   "id": "7066ec7a2294843b"
  },
  {
   "cell_type": "code",
   "execution_count": null,
   "id": "dfea6e648868022e",
   "metadata": {
    "collapsed": false
   },
   "outputs": [],
   "source": [
    "from pathlib import Path"
   ]
  },
  {
   "cell_type": "code",
   "execution_count": null,
   "outputs": [],
   "source": [
    "datalib = Path.cwd().parent.joinpath('data')"
   ],
   "metadata": {
    "collapsed": false
   },
   "id": "b0b5dd4685315eda"
  },
  {
   "cell_type": "markdown",
   "source": [
    "### Adatelőkészítés (0 pont)\n",
    "1., Olvasd be a data mappa __sp500.parquet__ nevű fájlját egy DataFrame-be. A betöltéshez használt engine paramétere legyen <u>fastparquet</u>\n",
    "2., Olvasd be az __ff_factors.parquet__ fájlt egy DataFrame-be. A betöltéshez használt engine paramétere legyen <u>fastparquet</u>\n",
    "3., Kapcsold össze a két DataFrame-t egy új DataFrame-be. Az összekapcsolás módja, hogy a hozam adatokra balról kapcsoljuk rá a factor adatokat a __'Date' elsődleges kulcs__ alapján.\n",
    "4., Készíts egy új __'Excess Return'__ nevű oszlopot, ami a havi hozamok és a kockázat mentes hozam (RF) különbsége\n",
    "5., <u>Rendezd sorba dátum szerint az adatokat</u>, majd generálj egy új oszlopot (__'ex_ret_1'__), amely minden ticker ('Symbol') esetén 1-el eltolja az Excess Return értékeit olyan módon, hogy minden sorban szerepeljen a <u>következő időszaki Excess Return</u> érték. \n",
    "6., A meglévő adathalmazt írd felül olyan módon, hogy egyszer <u>törlöd az össze olyan sort</u>, amely az __'ex_ret_1' oszlopban hiányos__, majd ezt követően, törlöd az összes olyan sort, ami a __'HML' oszlopban hiányos__.\n"
   ],
   "metadata": {
    "collapsed": false
   },
   "id": "dad5a013c358987e"
  },
  {
   "cell_type": "markdown",
   "source": [
    "3. feladat segítség\n",
    "![Joined data](../resources/weekly6/joined_data.jpg)"
   ],
   "metadata": {
    "collapsed": false
   },
   "id": "cf54c6765186a23e"
  },
  {
   "cell_type": "markdown",
   "source": [
    "5. feladat segítség\n",
    "![new column](../resources/weekly6/ex_ret_1.jpg)"
   ],
   "metadata": {
    "collapsed": false
   },
   "id": "a6be746933376572"
  },
  {
   "cell_type": "code",
   "execution_count": 4,
   "outputs": [
    {
     "ename": "ImportError",
     "evalue": "Unable to import required dependencies:\nnumpy: \n\nIMPORTANT: PLEASE READ THIS FOR ADVICE ON HOW TO SOLVE THIS ISSUE!\n\nImporting the numpy C-extensions failed. This error can happen for\nmany reasons, often due to issues with your setup or how NumPy was\ninstalled.\n\nWe have compiled some common reasons and troubleshooting tips at:\n\n    https://numpy.org/devdocs/user/troubleshooting-importerror.html\n\nPlease note and check the following:\n\n  * The Python version is: Python3.11 from \"/Users/molnartamas07/Documents/ECOPY_23241/venv/bin/python\"\n  * The NumPy version is: \"1.25.2\"\n\nand make sure that they are the versions you expect.\nPlease carefully study the documentation linked above for further help.\n\nOriginal error was: No module named 'numpy.core._multiarray_umath'\n",
     "output_type": "error",
     "traceback": [
      "\u001B[0;31m---------------------------------------------------------------------------\u001B[0m",
      "\u001B[0;31mImportError\u001B[0m                               Traceback (most recent call last)",
      "Cell \u001B[0;32mIn[4], line 2\u001B[0m\n\u001B[1;32m      1\u001B[0m \u001B[38;5;28;01mfrom\u001B[39;00m \u001B[38;5;21;01mpathlib\u001B[39;00m \u001B[38;5;28;01mimport\u001B[39;00m Path\n\u001B[0;32m----> 2\u001B[0m \u001B[38;5;28;01mimport\u001B[39;00m \u001B[38;5;21;01mpandas\u001B[39;00m \u001B[38;5;28;01mas\u001B[39;00m \u001B[38;5;21;01mpd\u001B[39;00m\n\u001B[1;32m      4\u001B[0m file_path \u001B[38;5;241m=\u001B[39m Path(\u001B[38;5;124m\"\u001B[39m\u001B[38;5;124m/Users/molnartamas07/Documents/ECOPY_23241/data/sp500.parquet\u001B[39m\u001B[38;5;124m\"\u001B[39m)\n\u001B[1;32m      6\u001B[0m df \u001B[38;5;241m=\u001B[39m pd\u001B[38;5;241m.\u001B[39mread_parquet(file_path, engine\u001B[38;5;241m=\u001B[39m\u001B[38;5;124m'\u001B[39m\u001B[38;5;124mfastparquet\u001B[39m\u001B[38;5;124m'\u001B[39m)\n",
      "File \u001B[0;32m~/Documents/ECOPY_23241/venv/lib/python3.11/site-packages/pandas/__init__.py:16\u001B[0m\n\u001B[1;32m     13\u001B[0m         _missing_dependencies\u001B[38;5;241m.\u001B[39mappend(\u001B[38;5;124mf\u001B[39m\u001B[38;5;124m\"\u001B[39m\u001B[38;5;132;01m{\u001B[39;00m_dependency\u001B[38;5;132;01m}\u001B[39;00m\u001B[38;5;124m: \u001B[39m\u001B[38;5;132;01m{\u001B[39;00m_e\u001B[38;5;132;01m}\u001B[39;00m\u001B[38;5;124m\"\u001B[39m)\n\u001B[1;32m     15\u001B[0m \u001B[38;5;28;01mif\u001B[39;00m _missing_dependencies:  \u001B[38;5;66;03m# pragma: no cover\u001B[39;00m\n\u001B[0;32m---> 16\u001B[0m     \u001B[38;5;28;01mraise\u001B[39;00m \u001B[38;5;167;01mImportError\u001B[39;00m(\n\u001B[1;32m     17\u001B[0m         \u001B[38;5;124m\"\u001B[39m\u001B[38;5;124mUnable to import required dependencies:\u001B[39m\u001B[38;5;130;01m\\n\u001B[39;00m\u001B[38;5;124m\"\u001B[39m \u001B[38;5;241m+\u001B[39m \u001B[38;5;124m\"\u001B[39m\u001B[38;5;130;01m\\n\u001B[39;00m\u001B[38;5;124m\"\u001B[39m\u001B[38;5;241m.\u001B[39mjoin(_missing_dependencies)\n\u001B[1;32m     18\u001B[0m     )\n\u001B[1;32m     19\u001B[0m \u001B[38;5;28;01mdel\u001B[39;00m _hard_dependencies, _dependency, _missing_dependencies\n\u001B[1;32m     21\u001B[0m \u001B[38;5;28;01mtry\u001B[39;00m:\n\u001B[1;32m     22\u001B[0m     \u001B[38;5;66;03m# numpy compat\u001B[39;00m\n",
      "\u001B[0;31mImportError\u001B[0m: Unable to import required dependencies:\nnumpy: \n\nIMPORTANT: PLEASE READ THIS FOR ADVICE ON HOW TO SOLVE THIS ISSUE!\n\nImporting the numpy C-extensions failed. This error can happen for\nmany reasons, often due to issues with your setup or how NumPy was\ninstalled.\n\nWe have compiled some common reasons and troubleshooting tips at:\n\n    https://numpy.org/devdocs/user/troubleshooting-importerror.html\n\nPlease note and check the following:\n\n  * The Python version is: Python3.11 from \"/Users/molnartamas07/Documents/ECOPY_23241/venv/bin/python\"\n  * The NumPy version is: \"1.25.2\"\n\nand make sure that they are the versions you expect.\nPlease carefully study the documentation linked above for further help.\n\nOriginal error was: No module named 'numpy.core._multiarray_umath'\n"
     ]
    }
   ],
   "source": [
    "from pathlib import Path\n",
    "import pandas as pd\n",
    "\n",
    "file_path = Path(\"/Users/molnartamas07/Documents/ECOPY_23241/data/sp500.parquet\")\n",
    "\n",
    "df = pd.read_parquet(file_path, engine='fastparquet')\n",
    "\n",
    "file_path = Path(\"/Users/molnartamas07/Documents/ECOPY_23241/data/ff_factors.parquet\")\n",
    "\n",
    "df_ff_factors = pd.read_parquet(file_path, engine='fastparquet')\n",
    "\n",
    "merged_df = pd.merge(df_sp500, df_ff_factors, on='Date', how='left')\n",
    "\n",
    "merged_df['Excess Return'] = merged_df['Return'] - merged_df['RF']\n",
    "\n",
    "merged_df.sort_values(by='Date', inplace=True)\n",
    "\n",
    "merged_df['ex_ret_1'] = merged_df.groupby('Symbol')['Excess Return'].shift(-1)\n",
    "\n",
    "merged_df = merged_df.dropna(subset=['ex_ret_1'])\n",
    "\n",
    "merged_df = merged_df.dropna(subset=['HML'])\n",
    "\n",
    "amazon_df = merged_df[merged_df['Symbol'] == 'AMZN']\n",
    "\n",
    "amazon_df = amazon_df.drop(columns=['Symbol'])\n"
   ],
   "metadata": {
    "collapsed": false,
    "ExecuteTime": {
     "end_time": "2023-11-22T18:57:15.394128Z",
     "start_time": "2023-11-22T18:57:15.278866Z"
    }
   },
   "id": "760e41517a8f96ae"
  },
  {
   "cell_type": "markdown",
   "source": [
    "### Modell összeállítás (7 pont)\n",
    "\n",
    "A meglévő adatokból válaszd ki a __Amazon részvényhez tartozó sorokat (AMZN)__ és töröld a tickereket tartalmazó oszlopot. <u>Amennyiben működött, önellenőrzésre használhatod a legutóbbi zárthelyin írt osztályt is.</u>\n",
    "\n",
    "7., Készíts egy új __LinearRegressionML__ elnevezésű osztályt. Definiáld benne a __\\_\\_init\\_\\___ nevű függvényt, amely bemenetként 2 DataFrame-t kap amelyeket ments le a left_hand_side és right_hand_side elnevezésű változókba. Az egyik DataFrame fogja tartalmazni a következő hónap többlet hozamait (__left_hand_side__), a másik a piaci hozamokat (Mkt-RF), az SMB és a HML értékeket (__right_hand_side__).\n",
    "\n",
    "8., Egésztsd ki az osztályt egy __fit__ metódussal, ami ML elvű becslést hajt végre. Figyelj oda, hogy a regresszió futtatása során konstans (alfa / béta_0) is szerepeljen a predictor változók között, amely az első változó legyen. __A feladatot numerikus optimalizálással old meg, analítikus megoldásra nem ját pont__\n",
    "\n",
    "9., Egészítsd ki az osztályt egy __get_params__ metódussal, ami visszaadja a becsült modell béta paramétereinek értékeit. A visszakapott pandas Series típusú adatban az oszlop neve legyen __Beta coefficients__. \n",
    "\n",
    "10., Egészítsd ki az osztályt egy __get_pvalues__ metódussal, ami visszaadja a becsült modell paraméterekhez tartozó p értékeket. A visszakapott pandas Series típusú adatban az oszlop neve legyen: __P-values for the corresponding coefficients__. A p értéket t-statisztika alapján számold ki. A p-érték kiszámításánál figyelj, hogy  alkalmazd a <u>min(value, 1-value) * 2</u> képletet.\n",
    "\n",
    "11., Egészítse ki az osztályt egy __get_model_goodness_values__ metódussal, ami visszadja a centrált és a módosított R-négyzet értékeket. A visszatérési típus string legyen, a visszaadandó szöveg: __Centered R-squared: crs, Adjusted R-squared: ars__, ahol crs és ars helyére 3 tizedesjegyre kerekítve (__:.3f__) add meg a hozzájuk tartozó értékeket. <u>Ha a regresszorok számába eredetileg beleszámítottad a konstanst is, akkor a módosított R-négyzet számítás nevezőjében nincs szükség a __-1__-es tagra</u>."
   ],
   "metadata": {
    "collapsed": false
   },
   "id": "1888d0ef54d4b2c3"
  },
  {
   "cell_type": "markdown",
   "source": [
    "#### Kiegészítés:\n",
    "- Mivel a célparaméterek kicsik, a minimalizálás kiinduló értékeit érdemes egységesen, minden paraméter számára __0.1__-re állítani.\n",
    "- Javasolt a __L-BFGS-B__ optimalizáló alkalmazása\n",
    "- Ne felejtsd el, hogy az MLE __variancia becslése torzított__. A kapott eredményeket ennek megfelelően korrigáld."
   ],
   "metadata": {
    "collapsed": false
   },
   "id": "5636fb7cd43f4897"
  },
  {
   "cell_type": "code",
   "execution_count": 2,
   "outputs": [
    {
     "ename": "ImportError",
     "evalue": "Unable to import required dependencies:\nnumpy: \n\nIMPORTANT: PLEASE READ THIS FOR ADVICE ON HOW TO SOLVE THIS ISSUE!\n\nImporting the numpy C-extensions failed. This error can happen for\nmany reasons, often due to issues with your setup or how NumPy was\ninstalled.\n\nWe have compiled some common reasons and troubleshooting tips at:\n\n    https://numpy.org/devdocs/user/troubleshooting-importerror.html\n\nPlease note and check the following:\n\n  * The Python version is: Python3.11 from \"/Users/molnartamas07/Documents/ECOPY_23241/venv/bin/python\"\n  * The NumPy version is: \"1.25.2\"\n\nand make sure that they are the versions you expect.\nPlease carefully study the documentation linked above for further help.\n\nOriginal error was: No module named 'numpy.core._multiarray_umath'\n",
     "output_type": "error",
     "traceback": [
      "\u001B[0;31m---------------------------------------------------------------------------\u001B[0m",
      "\u001B[0;31mImportError\u001B[0m                               Traceback (most recent call last)",
      "Cell \u001B[0;32mIn[2], line 1\u001B[0m\n\u001B[0;32m----> 1\u001B[0m \u001B[38;5;28;01mimport\u001B[39;00m \u001B[38;5;21;01mpandas\u001B[39;00m \u001B[38;5;28;01mas\u001B[39;00m \u001B[38;5;21;01mpd\u001B[39;00m\n\u001B[1;32m      2\u001B[0m \u001B[38;5;28;01mimport\u001B[39;00m \u001B[38;5;21;01mnumpy\u001B[39;00m \u001B[38;5;28;01mas\u001B[39;00m \u001B[38;5;21;01mnp\u001B[39;00m\n\u001B[1;32m      3\u001B[0m \u001B[38;5;28;01mfrom\u001B[39;00m \u001B[38;5;21;01mscipy\u001B[39;00m\u001B[38;5;21;01m.\u001B[39;00m\u001B[38;5;21;01moptimize\u001B[39;00m \u001B[38;5;28;01mimport\u001B[39;00m minimize\n",
      "File \u001B[0;32m~/Documents/ECOPY_23241/venv/lib/python3.11/site-packages/pandas/__init__.py:16\u001B[0m\n\u001B[1;32m     13\u001B[0m         _missing_dependencies\u001B[38;5;241m.\u001B[39mappend(\u001B[38;5;124mf\u001B[39m\u001B[38;5;124m\"\u001B[39m\u001B[38;5;132;01m{\u001B[39;00m_dependency\u001B[38;5;132;01m}\u001B[39;00m\u001B[38;5;124m: \u001B[39m\u001B[38;5;132;01m{\u001B[39;00m_e\u001B[38;5;132;01m}\u001B[39;00m\u001B[38;5;124m\"\u001B[39m)\n\u001B[1;32m     15\u001B[0m \u001B[38;5;28;01mif\u001B[39;00m _missing_dependencies:  \u001B[38;5;66;03m# pragma: no cover\u001B[39;00m\n\u001B[0;32m---> 16\u001B[0m     \u001B[38;5;28;01mraise\u001B[39;00m \u001B[38;5;167;01mImportError\u001B[39;00m(\n\u001B[1;32m     17\u001B[0m         \u001B[38;5;124m\"\u001B[39m\u001B[38;5;124mUnable to import required dependencies:\u001B[39m\u001B[38;5;130;01m\\n\u001B[39;00m\u001B[38;5;124m\"\u001B[39m \u001B[38;5;241m+\u001B[39m \u001B[38;5;124m\"\u001B[39m\u001B[38;5;130;01m\\n\u001B[39;00m\u001B[38;5;124m\"\u001B[39m\u001B[38;5;241m.\u001B[39mjoin(_missing_dependencies)\n\u001B[1;32m     18\u001B[0m     )\n\u001B[1;32m     19\u001B[0m \u001B[38;5;28;01mdel\u001B[39;00m _hard_dependencies, _dependency, _missing_dependencies\n\u001B[1;32m     21\u001B[0m \u001B[38;5;28;01mtry\u001B[39;00m:\n\u001B[1;32m     22\u001B[0m     \u001B[38;5;66;03m# numpy compat\u001B[39;00m\n",
      "\u001B[0;31mImportError\u001B[0m: Unable to import required dependencies:\nnumpy: \n\nIMPORTANT: PLEASE READ THIS FOR ADVICE ON HOW TO SOLVE THIS ISSUE!\n\nImporting the numpy C-extensions failed. This error can happen for\nmany reasons, often due to issues with your setup or how NumPy was\ninstalled.\n\nWe have compiled some common reasons and troubleshooting tips at:\n\n    https://numpy.org/devdocs/user/troubleshooting-importerror.html\n\nPlease note and check the following:\n\n  * The Python version is: Python3.11 from \"/Users/molnartamas07/Documents/ECOPY_23241/venv/bin/python\"\n  * The NumPy version is: \"1.25.2\"\n\nand make sure that they are the versions you expect.\nPlease carefully study the documentation linked above for further help.\n\nOriginal error was: No module named 'numpy.core._multiarray_umath'\n"
     ]
    }
   ],
   "source": [
    "import pandas as pd\n",
    "import numpy as np\n",
    "from scipy.optimize import minimize\n",
    "\n",
    "class LinearRegressionML:\n",
    "    def __init__(self, left_hand_side, right_hand_side):\n",
    "        if not isinstance(left_hand_side, pd.DataFrame) or not isinstance(right_hand_side, pd.DataFrame):\n",
    "            raise ValueError(\"Both inputs should be DataFrames.\")\n",
    "\n",
    "        self.left_hand_side = left_hand_side\n",
    "        self.right_hand_side = right_hand_side\n",
    "        self.beta = None\n",
    "\n",
    "    def fit(self):\n",
    "        n_predictors = self.right_hand_side.shape[1]\n",
    "        initial_params = np.full(n_predictors + 2, 0.1)  # Setting initial values to 0.1 for all parameters\n",
    "        result = minimize(self._negative_log_likelihood, initial_params, method='L-BFGS-B')\n",
    "\n",
    "        if result.success:\n",
    "            self.beta = result.x[1:]\n",
    "            self._correct_mle_variance(result.hess_inv)\n",
    "        else:\n",
    "            raise ValueError(\"Optimization did not converge. Please check your input data.\")\n",
    "\n",
    "    def _negative_log_likelihood(self, params):\n",
    "        alpha = params[0]\n",
    "        beta = params[1:]\n",
    "        y = self.left_hand_side.values\n",
    "        X = np.column_stack((np.ones(len(self.left_hand_side)), self.right_hand_side.values))\n",
    "        epsilon = y - X @ beta - alpha\n",
    "        neg_log_likelihood = 0.5 * np.sum(epsilon ** 2)\n",
    "        return neg_log_likelihood\n",
    "\n",
    "    def _correct_mle_variance(self, hessian_inv):\n",
    "        n, k = self.right_hand_side.shape[0], self.right_hand_side.shape[1]\n",
    "        sigma_squared = np.sum((self.left_hand_side - self.right_hand_side @ self.beta) ** 2) / (n - k)\n",
    "        cov_matrix = hessian_inv * sigma_squared\n",
    "        std_errors = np.sqrt(np.diag(cov_matrix))\n",
    "        self.std_errors = std_errors\n",
    "\n",
    "    def get_params(self):\n",
    "        if not hasattr(self, 'beta'):\n",
    "            raise ValueError(\"Model parameters have not been estimated. Please call fit() first.\")\n",
    "        params_with_alpha = [np.nan] + list(self.beta)\n",
    "        return pd.Series(params_with_alpha, name='Beta coefficients')\n",
    "\n",
    "    def get_model_goodness_values(self):\n",
    "        if not hasattr(self, 'beta'):\n",
    "            raise ValueError(\"Model parameters have not been estimated. Please call fit() first.\")\n",
    "\n",
    "        n, k = self.right_hand_side.shape[0], self.right_hand_side.shape[1]\n",
    "\n",
    "        y_mean = self.left_hand_side.mean().values\n",
    "        y_hat = self.right_hand_side @ self.beta\n",
    "        rss = np.sum((self.left_hand_side - y_hat) ** 2)\n",
    "        tss = np.sum((self.left_hand_side - y_mean) ** 2)\n",
    "        crs = 1 - rss / tss\n",
    "\n",
    "        if k > 1:\n",
    "            ars = 1 - (rss / (n - k)) / (tss / (n - 1))\n",
    "        else:\n",
    "            ars = crs\n",
    "\n",
    "        return f\"Centered R-squared: {crs:.3f}, Adjusted R-squared: {ars:.3f}\""
   ],
   "metadata": {
    "collapsed": false,
    "ExecuteTime": {
     "end_time": "2023-11-22T18:36:55.741007Z",
     "start_time": "2023-11-22T18:36:55.660075Z"
    }
   },
   "id": "b74aa975a3c02d04"
  },
  {
   "cell_type": "code",
   "execution_count": null,
   "outputs": [],
   "source": [],
   "metadata": {
    "collapsed": false
   },
   "id": "f51c210ce9f5a788"
  }
 ],
 "metadata": {
  "kernelspec": {
   "display_name": "Python 3 (ipykernel)",
   "language": "python",
   "name": "python3"
  },
  "language_info": {
   "codemirror_mode": {
    "name": "ipython",
    "version": 3
   },
   "file_extension": ".py",
   "mimetype": "text/x-python",
   "name": "python",
   "nbconvert_exporter": "python",
   "pygments_lexer": "ipython3",
   "version": "3.10.4"
  }
 },
 "nbformat": 4,
 "nbformat_minor": 5
}
