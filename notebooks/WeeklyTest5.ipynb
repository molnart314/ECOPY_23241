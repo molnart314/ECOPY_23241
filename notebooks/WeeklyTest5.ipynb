{
 "cells": [
  {
   "cell_type": "markdown",
   "id": "de9d9737616514b8",
   "metadata": {
    "collapsed": false
   },
   "source": [
    "## Az eredményeket mentsd a src/weekly modul-ba weekly_test_5.py néven"
   ]
  },
  {
   "cell_type": "markdown",
   "id": "a9789db8f0fbd7ec",
   "metadata": {
    "collapsed": false
   },
   "source": [
    "#### Használható modulok: pandas, typing, matplotlib, random, src.utils, src.weekly, str"
   ]
  },
  {
   "cell_type": "code",
   "execution_count": null,
   "id": "dfea6e648868022e",
   "metadata": {
    "collapsed": false
   },
   "outputs": [],
   "source": [
    "from pathlib import Path\n",
    "\n",
    "file_to_load = Path.cwd().parent.joinpath('data').joinpath('chipotle.tsv')"
   ]
  },
  {
   "cell_type": "code",
   "execution_count": null,
   "id": "9d26aec7b4e97407",
   "metadata": {
    "collapsed": false
   },
   "outputs": [],
   "source": [
    "\"\"\"\n",
    "1., Olvasd be a data mappa chipotle.tsv nevű fájlját egy dataframe-be. A betöltött   adatokat food nevű változóban mentse. A következő feladatokban a kiinduló fájlt csak akkor írd felül, ha jelezve van.\n",
    "\"\"\""
   ]
  },
  {
   "cell_type": "code",
   "execution_count": 4,
   "id": "f1945d927f8109c4",
   "metadata": {
    "collapsed": false,
    "ExecuteTime": {
     "end_time": "2023-10-18T17:22:03.480190Z",
     "start_time": "2023-10-18T17:22:03.418052Z"
    }
   },
   "outputs": [
    {
     "name": "stdout",
     "output_type": "stream",
     "text": [
      "Adatok sikeresen beolvasva.\n"
     ]
    }
   ],
   "source": [
    "import pandas as pd\n",
    "\n",
    "# Fájl útvonala\n",
    "file_path = '/Users/molnartamas07/Documents/ECOPY_23241/data/chipotle.tsv'\n",
    "\n",
    "# Próba\n",
    "try:\n",
    "    food = pd.read_csv(file_path, sep='\\t')\n",
    "    print(\"sikeres.\")\n",
    "except FileNotFoundError:\n",
    "    print(\"nem található.\")\n",
    "except Exception as e:\n",
    "    print(f\"Hiba: {e}\")\n"
   ]
  },
  {
   "cell_type": "code",
   "execution_count": null,
   "outputs": [],
   "source": [],
   "metadata": {
    "collapsed": false
   },
   "id": "f35d60f5979c143f"
  },
  {
   "cell_type": "code",
   "execution_count": null,
   "outputs": [],
   "source": [
    "\"\"\"\n",
    "2., Készts egy függvényt, ami a bemeneti adattömbben átalakítja az item_price értékeit float-ra. Az eredeti adatokat a függvény ne módosítsa. A kapott, tisztított adatokkal írd felül a food változót.\n",
    "\n",
    "függvény név: change_price_to_float\n",
    "bemenet: input_df\n",
    "kimeneti típus: pandas.core.frame.DataFrame\n",
    "\"\"\""
   ],
   "metadata": {
    "collapsed": false
   },
   "id": "d42ee754b557dcef"
  },
  {
   "cell_type": "code",
   "execution_count": 5,
   "outputs": [],
   "source": [
    "import pandas as pd\n",
    "\n",
    "def change_price_to_float(input_df):\n",
    "    # Másolat készítése a bemeneti DataFrame-ről\n",
    "    df_copy = input_df.copy()\n",
    "    \n",
    "    # Az \"item_price\" oszlopból távolítsa el a dollárjelet és átalakítsa float-tá\n",
    "    df_copy['item_price'] = df_copy['item_price'].str.replace('$', '').astype(float)\n",
    "    \n",
    "    return df_copy\n",
    "\n",
    "# Eredeti adatok beolvasása\n",
    "file_path = '/Users/molnartamas07/Documents/ECOPY_23241/data/chipotle.tsv'\n",
    "food = pd.read_csv(file_path, sep='\\t')\n",
    "\n",
    "# Függvény meghívása az átalakításra és a food változó felülírása\n",
    "food = change_price_to_float(food)\n",
    "\n",
    "# Mostantól a \"food\" változó tartalmazza az átalakított adatokat\n"
   ],
   "metadata": {
    "collapsed": false,
    "ExecuteTime": {
     "end_time": "2023-10-18T17:22:36.648904Z",
     "start_time": "2023-10-18T17:22:36.423619Z"
    }
   },
   "id": "62f342effc8f0d82"
  },
  {
   "cell_type": "code",
   "execution_count": null,
   "outputs": [],
   "source": [],
   "metadata": {
    "collapsed": false
   },
   "id": "97a528d6564e3cde"
  },
  {
   "cell_type": "code",
   "execution_count": null,
   "id": "b79c977da040d844",
   "metadata": {
    "collapsed": false
   },
   "outputs": [],
   "source": [
    "\"\"\"\n",
    "3., Készíts egy függvényt, ami megmondja, hogy hány megfigyelés található az adathalmazban\n",
    "\n",
    "függvény név: number_of_observations\n",
    "bemenet: input_df\n",
    "kimeneti típus: int\n",
    "\"\"\""
   ]
  },
  {
   "cell_type": "code",
   "execution_count": 6,
   "id": "505baa2089524304",
   "metadata": {
    "collapsed": false,
    "ExecuteTime": {
     "end_time": "2023-10-18T17:23:00.278404Z",
     "start_time": "2023-10-18T17:23:00.248094Z"
    }
   },
   "outputs": [
    {
     "name": "stdout",
     "output_type": "stream",
     "text": [
      "Az adathalmazban található megfigyelések száma: 4622\n"
     ]
    }
   ],
   "source": [
    "def number_of_observations(input_df):\n",
    "    # A DataFrame alakjának lekérdezése, azaz a sorok számának meghatározása\n",
    "    num_observations = input_df.shape[0]\n",
    "    \n",
    "    return num_observations\n",
    "\n",
    "# Példányosítás és a függvény meghívása a \"food\" DataFrame-re\n",
    "observation_count = number_of_observations(food)\n",
    "\n",
    "# Az \"observation_count\" változóban lesz az adathalmaz megfigyeléseinek száma\n",
    "print(\"Az adathalmazban található megfigyelések száma:\", observation_count)\n"
   ]
  },
  {
   "cell_type": "code",
   "execution_count": null,
   "id": "9d190eb6f3a482b6",
   "metadata": {
    "collapsed": false
   },
   "outputs": [],
   "source": []
  },
  {
   "cell_type": "code",
   "execution_count": null,
   "id": "dd10fafbf699543d",
   "metadata": {
    "collapsed": false
   },
   "outputs": [],
   "source": [
    "\"\"\"\n",
    "4., Készíts egy függvényt, ami visszadja a termék neveket és az áraikat.\n",
    "\n",
    "függvény név: items_and_prices\n",
    "bemenet: input_df\n",
    "kimeneti típus: pandas.core.frame.DataFrame\n",
    "\"\"\""
   ]
  },
  {
   "cell_type": "code",
   "execution_count": 8,
   "id": "a58cb336d2bac95d",
   "metadata": {
    "collapsed": false,
    "ExecuteTime": {
     "end_time": "2023-10-18T17:23:43.867633Z",
     "start_time": "2023-10-18T17:23:43.827749Z"
    }
   },
   "outputs": [
    {
     "name": "stdout",
     "output_type": "stream",
     "text": [
      "                                  item_name  item_price\n",
      "0              Chips and Fresh Tomato Salsa        2.39\n",
      "1                                      Izze        3.39\n",
      "2                          Nantucket Nectar        3.39\n",
      "3     Chips and Tomatillo-Green Chili Salsa        2.39\n",
      "4                              Chicken Bowl       16.98\n",
      "...                                     ...         ...\n",
      "4617                          Steak Burrito       11.75\n",
      "4618                          Steak Burrito       11.75\n",
      "4619                     Chicken Salad Bowl       11.25\n",
      "4620                     Chicken Salad Bowl        8.75\n",
      "4621                     Chicken Salad Bowl        8.75\n",
      "\n",
      "[4622 rows x 2 columns]\n"
     ]
    }
   ],
   "source": [
    "import pandas as pd\n",
    "\n",
    "def items_and_prices(input_df):\n",
    "    # A termék nevek és árak kiválasztása az eredeti DataFrame-ből\n",
    "    item_price_df = input_df[['item_name', 'item_price']]\n",
    "    \n",
    "    return item_price_df\n",
    "\n",
    "# Példányosítás és a függvény meghívása a \"food\" DataFrame-re\n",
    "item_price_data = items_and_prices(food)\n",
    "\n",
    "# Az \"item_price_data\" DataFrame tartalmazza a termék neveket és áraikat\n",
    "print(item_price_data)"
   ]
  },
  {
   "cell_type": "code",
   "execution_count": null,
   "id": "47f914b529be356b",
   "metadata": {
    "collapsed": false
   },
   "outputs": [],
   "source": []
  },
  {
   "cell_type": "code",
   "execution_count": null,
   "id": "a35053917db8723e",
   "metadata": {
    "collapsed": false
   },
   "outputs": [],
   "source": [
    "\"\"\"\n",
    "5., Készíts egy függvényt, ami sorba rendezi az termékeket az áruk alapján, csökkenő sorrendben. Használd az előző  függvény eredményét.\n",
    "\n",
    "függvény név: sorted_by_price\n",
    "bemenet: input_df\n",
    "kimeneti típus: pandas.core.frame.DataFrame\n",
    "\n",
    "\"\"\""
   ]
  },
  {
   "cell_type": "code",
   "execution_count": null,
   "id": "5c764033a4ca200b",
   "metadata": {
    "collapsed": false
   },
   "outputs": [],
   "source": [
    "def sorted_by_price(input_df):\n",
    "    # Az ár szerint csökkenő sorrendben rendezett DataFrame létrehozása\n",
    "    sorted_df = input_df.sort_values(by='item_price', ascending=False)\n",
    "    \n",
    "    return sorted_df\n",
    "\n",
    "# Példányosítás és a függvény meghívása az \"item_price_data\" DataFrame-re\n",
    "sorted_items_by_price = sorted_by_price(item_price_data)\n",
    "\n",
    "# A \"sorted_items_by_price\" DataFrame tartalmazza a termékeket ár szerint rendezve csökkenő sorrendben\n"
   ]
  },
  {
   "cell_type": "code",
   "execution_count": null,
   "id": "a10e9e934b2a98b8",
   "metadata": {
    "collapsed": false
   },
   "outputs": [],
   "source": []
  },
  {
   "cell_type": "code",
   "execution_count": null,
   "id": "30fd1aa0c59afb47",
   "metadata": {
    "collapsed": false
   },
   "outputs": [],
   "source": [
    "\"\"\"\n",
    "6., Készíts egy függvényt, ami visszaadja az átlagos árat.\n",
    "\n",
    "függvény név: avg_price\n",
    "bemenet: input_df\n",
    "kimeneti típus: float\n",
    "\n",
    "\"\"\""
   ]
  },
  {
   "cell_type": "code",
   "execution_count": 9,
   "id": "44865d1982f4fe17",
   "metadata": {
    "collapsed": false,
    "ExecuteTime": {
     "end_time": "2023-10-18T17:25:00.345822Z",
     "start_time": "2023-10-18T17:25:00.276365Z"
    }
   },
   "outputs": [
    {
     "name": "stdout",
     "output_type": "stream",
     "text": [
      "Az átlagos ár: 7.464335785374297\n"
     ]
    }
   ],
   "source": [
    "def avg_price(input_df):\n",
    "    # Az \"item_price\" oszlop átlagának számítása\n",
    "    average_price = input_df['item_price'].mean()\n",
    "    \n",
    "    return average_price\n",
    "\n",
    "# Példányosítás és a függvény meghívása az \"food\" DataFrame-re\n",
    "average_item_price = avg_price(food)\n",
    "\n",
    "# Az \"average_item_price\" változóban lesz az átlagos ár\n",
    "print(\"Az átlagos ár:\", average_item_price)\n"
   ]
  },
  {
   "cell_type": "code",
   "execution_count": null,
   "id": "8d4529f9fc423a7",
   "metadata": {
    "collapsed": false
   },
   "outputs": [],
   "source": []
  },
  {
   "cell_type": "code",
   "execution_count": null,
   "id": "4637c401e0e6352c",
   "metadata": {
    "collapsed": false
   },
   "outputs": [],
   "source": [
    "\"\"\"\n",
    "7., Készíts egy függvényt, ami visszadja azokat az egyedi termékeket (név, feltét és ár szempontjából egyedi), amelyek ára 10 dollár felett van\n",
    "\n",
    "függvény név: unique_items_over_ten_dollars\n",
    "bement: input_df\n",
    "kimeneti típus: pandas.core.frame.DataFrame\n",
    "\n",
    "\"\"\""
   ]
  },
  {
   "cell_type": "code",
   "execution_count": null,
   "id": "f1dd81478909c86c",
   "metadata": {
    "collapsed": false
   },
   "outputs": [],
   "source": [
    "def unique_items_over_ten_dollars(input_df):\n",
    "    filtered_df = input_df[input_df['item_price'] > 10]\n",
    "    unique_filtered_df = filtered_df.drop_duplicates(subset=['item_name', 'choice_description', 'item_price'])\n",
    "    return unique_filtered_df"
   ]
  },
  {
   "cell_type": "code",
   "execution_count": null,
   "id": "5c1dc290a99cf46c",
   "metadata": {
    "collapsed": false
   },
   "outputs": [],
   "source": []
  },
  {
   "cell_type": "code",
   "execution_count": null,
   "id": "ff27a788246be43c",
   "metadata": {
    "collapsed": false
   },
   "outputs": [],
   "source": [
    "\"\"\"\n",
    "8., Készíts egy függvényt, ami visszaadja azon termékek neveit, amelyek neve 'S'-el kezdődik.\n",
    "\n",
    "fv. neve: items_starting_with_s\n",
    "bemenet: input_df\n",
    "kimeneti típus: pandas.core.frame.DataFrame\n",
    "\"\"\""
   ]
  },
  {
   "cell_type": "code",
   "execution_count": null,
   "id": "2ebc475c23f0de6e",
   "metadata": {
    "collapsed": false
   },
   "outputs": [],
   "source": [
    "def items_starting_with_s(input_df):\n",
    "    # Szűrjük azokat a sorokat, ahol a \"item_name\" oszlop 'S'-el kezdődik\n",
    "    filtered_df = input_df[input_df['item_name'].str.startswith('S')]\n",
    "    \n",
    "    # Csak a \"item_name\" oszlop tartalmát tartjuk meg\n",
    "    filtered_names = filtered_df['item_name']\n",
    "    \n",
    "    return filtered_names\n"
   ]
  },
  {
   "cell_type": "code",
   "execution_count": null,
   "id": "a4eef25889cb8347",
   "metadata": {
    "collapsed": false
   },
   "outputs": [],
   "source": []
  },
  {
   "cell_type": "code",
   "execution_count": null,
   "id": "2293e3b440a8ae85",
   "metadata": {
    "collapsed": false
   },
   "outputs": [],
   "source": [
    "\"\"\"\n",
    "9. Készíts egy függvényt, ami visszaadja az első 3 oszlopot. Használd a tisztított.\n",
    "\n",
    "fv. név: first_three_columns\n",
    "bemenet: input_df\n",
    "return típus: pandas.core.frame.DataFrame\n",
    "\n",
    "\"\"\""
   ]
  },
  {
   "cell_type": "code",
   "execution_count": 10,
   "id": "a192f2eebf0bb24d",
   "metadata": {
    "collapsed": false,
    "ExecuteTime": {
     "end_time": "2023-10-18T17:30:31.535215Z",
     "start_time": "2023-10-18T17:30:31.500039Z"
    }
   },
   "outputs": [
    {
     "name": "stdout",
     "output_type": "stream",
     "text": [
      "      order_id  quantity                              item_name\n",
      "0            1         1           Chips and Fresh Tomato Salsa\n",
      "1            1         1                                   Izze\n",
      "2            1         1                       Nantucket Nectar\n",
      "3            1         1  Chips and Tomatillo-Green Chili Salsa\n",
      "4            2         2                           Chicken Bowl\n",
      "...        ...       ...                                    ...\n",
      "4617      1833         1                          Steak Burrito\n",
      "4618      1833         1                          Steak Burrito\n",
      "4619      1834         1                     Chicken Salad Bowl\n",
      "4620      1834         1                     Chicken Salad Bowl\n",
      "4621      1834         1                     Chicken Salad Bowl\n",
      "\n",
      "[4622 rows x 3 columns]\n"
     ]
    }
   ],
   "source": [
    "def first_three_columns(input_df):\n",
    "\n",
    "    selected_columns = input_df.iloc[:, :3]\n",
    "    \n",
    "    return selected_columns\n",
    "\n",
    "x = first_three_columns(food)\n",
    "print(x)"
   ]
  },
  {
   "cell_type": "code",
   "execution_count": null,
   "id": "dc174ca46e9dea9b",
   "metadata": {
    "collapsed": false
   },
   "outputs": [],
   "source": []
  },
  {
   "cell_type": "code",
   "execution_count": null,
   "id": "a9a68b16090a09f7",
   "metadata": {
    "collapsed": false
   },
   "outputs": [],
   "source": [
    "\"\"\"\n",
    "10. Készíts egy függvényt, ami visszaadja az összes oszlopot az utolsó 2-on kívül. Használd a tisztított adatokat.\n",
    "\n",
    "fv. név: every_column_except_last_two\n",
    "bemenet: input_df\n",
    "return típus: pandas.core.frame.DataFrame\n",
    "\n",
    "\"\"\""
   ]
  },
  {
   "cell_type": "code",
   "execution_count": null,
   "id": "1d0754a3513e5eec",
   "metadata": {
    "collapsed": false
   },
   "outputs": [],
   "source": [
    "def every_column_except_last_two(input_df):\n",
    "    # Az összes oszlop kiválasztása az utolsó két oszlop nélkül\n",
    "    selected_columns = input_df.iloc[:, :-2]\n",
    "    \n",
    "    return selected_columns\n"
   ]
  },
  {
   "cell_type": "code",
   "execution_count": null,
   "id": "64582e56a87a8160",
   "metadata": {
    "collapsed": false
   },
   "outputs": [],
   "source": []
  },
  {
   "cell_type": "code",
   "execution_count": null,
   "id": "376c202b0fe487aa",
   "metadata": {
    "collapsed": false
   },
   "outputs": [],
   "source": [
    "\"\"\"\n",
    "11. Készíts egy függvényt, amely tetszőleges oszlopokat és sorokat ad vissza a bemeneti adatokból. A sorokat és oszlopokat listák formájában adjuk be a függvénynek. A sorokat egy bemeneti oszlop alapján szűrjük.\n",
    "\n",
    "fv. név: sliced_view\n",
    "bemenet: input_df, columns_to_keep, column_to_filter, rows_to_keep\n",
    "return type: pandas.core.frame.DataFrame\n",
    "\n",
    "\"\"\""
   ]
  },
  {
   "cell_type": "code",
   "execution_count": null,
   "id": "3596668112e27e6",
   "metadata": {
    "collapsed": false
   },
   "outputs": [],
   "source": [
    "def sliced_view(input_df, columns_to_keep, column_to_filter, rows_to_keep):\n",
    "    # Kiválasztjuk az oszlopokat, amiket megtartunk\n",
    "    selected_columns = input_df[columns_to_keep]\n",
    "    \n",
    "    # Szűrjük a sorokat az adott oszlop alapján\n",
    "    filtered_rows = input_df[input_df[column_to_filter].isin(rows_to_keep)]\n",
    "    \n",
    "    # Vegyük az átfedést a kiválasztott oszlopok és szűrt sorok között\n",
    "    result_df = filtered_rows[selected_columns]\n",
    "    \n",
    "    return result_df\n"
   ]
  },
  {
   "cell_type": "code",
   "execution_count": null,
   "id": "6e731f8b0d4c77ee",
   "metadata": {
    "collapsed": false
   },
   "outputs": [],
   "source": []
  },
  {
   "cell_type": "code",
   "execution_count": null,
   "id": "47d70863b98e7ae3",
   "metadata": {
    "collapsed": false
   },
   "outputs": [],
   "source": [
    "\"\"\"\n",
    "12. Készíts egy függvényt, ami a bemeneti adatokat kiegészíti egy 'Quartile' oszloppal. Használd a tisztított adatokat. A kvartilis oszlop értékeit az ár alapján határozza meg:\n",
    "\n",
    "30 - : 'premium'\n",
    "20 - 29.99: 'high-cost'\n",
    "10 - 19.99: 'medium-cost\n",
    "0 - 9.99: 'low-cost'\n",
    "\n",
    "fv. név: generate_quartile\n",
    "bemenet: input_df\n",
    "return type: pandas.core.frame.DataFrame\n",
    "\n",
    "\"\"\""
   ]
  },
  {
   "cell_type": "code",
   "execution_count": null,
   "id": "21d385ae84f4114d",
   "metadata": {
    "collapsed": false
   },
   "outputs": [],
   "source": [
    "import pandas as pd\n",
    "\n",
    "def generate_quartile(input_df):\n",
    "    # Függvény a kvartilis érték kiszámításához az \"item_price\" oszlopból\n",
    "    def determine_quartile(price):\n",
    "        if price >= 30:\n",
    "            return 'premium'\n",
    "        elif price >= 20:\n",
    "            return 'high-cost'\n",
    "        elif price >= 10:\n",
    "            return 'medium-cost'\n",
    "        else:\n",
    "            return 'low-cost'\n",
    "    \n",
    "    # Az \"item_price\" oszlop alapján meghatározzuk a kvartilist és hozzáadjuk az új oszlopot\n",
    "    input_df['Quartile'] = input_df['item_price'].apply(determine_quartile)\n",
    "    \n",
    "    return input_df\n",
    "\n",
    "# Példányosítás és a függvény meghívása az \"food\" DataFrame-re\n",
    "food = generate_quartile(food)\n",
    "\n",
    "# Az \"food\" DataFrame most tartalmazza a \"Quartile\" oszlopot is\n"
   ]
  },
  {
   "cell_type": "code",
   "execution_count": null,
   "id": "3ad4b27111f25648",
   "metadata": {
    "collapsed": false
   },
   "outputs": [],
   "source": []
  },
  {
   "cell_type": "code",
   "execution_count": null,
   "id": "bb70c884473a7679",
   "metadata": {
    "collapsed": false
   },
   "outputs": [],
   "source": [
    "\"\"\"\n",
    "13., Készíts egy függvényt, ami minden kvartilis értékhez kiszámítja, az átlagos árat. Használd az előző feladat eredményét bemenetként.\n",
    "\n",
    "fn név: average_price_in_quartiles\n",
    "bemenet: input_df\n",
    "return type: pandas.core.frame.DataFrame\n",
    "\n",
    "\"\"\""
   ]
  },
  {
   "cell_type": "code",
   "execution_count": null,
   "id": "dad25f20c5ac3ec6",
   "metadata": {
    "collapsed": false
   },
   "outputs": [],
   "source": [
    "import pandas as pd\n",
    "\n",
    "def average_price_in_quartiles(input_df):\n",
    "    # Csoportosítás a \"Quartile\" oszlop alapján és az átlagos ár kiszámítása\n",
    "    quartile_avg_prices = input_df.groupby('Quartile')['item_price'].mean().reset_index()\n",
    "    \n",
    "    return quartile_avg_prices\n",
    "\n",
    "# Példányosítás és a függvény meghívása az \"food\" DataFrame-re\n",
    "average_prices_by_quartile = average_price_in_quartiles(food)\n",
    "\n",
    "# Az \"average_prices_by_quartile\" DataFrame tartalmazza az átlagos árakat minden kvartilis értékhez\n"
   ]
  },
  {
   "cell_type": "code",
   "execution_count": null,
   "id": "8a8aa5257e5e9f81",
   "metadata": {
    "collapsed": false
   },
   "outputs": [],
   "source": []
  },
  {
   "cell_type": "code",
   "execution_count": null,
   "id": "1fa60ba13b667576",
   "metadata": {
    "collapsed": false
   },
   "outputs": [],
   "source": [
    "\"\"\"\n",
    "14., Készíts egy függvényt ami minden kvartilis esetén visszadja az árak minimális és maximális értékét, valamint az átlagát.\n",
    "\n",
    "fv. név: minmaxmean_price_in_quartile\n",
    "bemenet: input_df\n",
    "return type: pandas.core.frame.DataFrame\n",
    "\"\"\""
   ]
  },
  {
   "cell_type": "code",
   "execution_count": null,
   "id": "a4166f92696d8f3c",
   "metadata": {
    "collapsed": false
   },
   "outputs": [],
   "source": [
    "import pandas as pd\n",
    "\n",
    "def minmaxmean_price_in_quartile(input_df):\n",
    "    # Csoportosítás a \"Quartile\" oszlop alapján és a minimális, maximális és átlagos árak kiszámítása\n",
    "    quartile_price_summary = input_df.groupby('Quartile')['item_price'].agg(['min', 'max', 'mean']).reset_index()\n",
    "    \n",
    "    return quartile_price_summary\n",
    "\n",
    "# Példányosítás és a függvény meghívása az \"food\" DataFrame-re\n",
    "price_summary_by_quartile = minmaxmean_price_in_quartile(food)\n",
    "\n",
    "# Az \"price_summary_by_quartile\" DataFrame tartalmazza a minimális, maximális és átlagos árakat minden kvartilis értékhez\n"
   ]
  },
  {
   "cell_type": "code",
   "execution_count": null,
   "id": "accb935cb089b427",
   "metadata": {
    "collapsed": false
   },
   "outputs": [],
   "source": []
  },
  {
   "cell_type": "code",
   "execution_count": null,
   "id": "10b9f08f28204e28",
   "metadata": {
    "collapsed": false
   },
   "outputs": [],
   "source": [
    "\"\"\"\n",
    "15. Készíts egy függvényt, ami létrehoz egy listát, benne number_of_trajectories db listával. A belső listák létrehozásának logikája a következő:\n",
    "    A bemeneti paraméterként kapott distribution osztály felhasználásával (UniformDistribution 0,1 paraméterekkel) generálj length_of_trajectory véletlen számot\n",
    "    A belső lista tartalmazza a generált számok kumulatív átlagát.\n",
    "    Ismételd meg number_of_trajectories alkalommal (mindegyik belső listába egyszer)\n",
    "    A seed értéke legyen 42.\n",
    "\n",
    "függvény bemenete: distribution, number_of_trajectories, length_of_trajectory\n",
    "kimeneti típus: List    \n",
    "függvény neve: gen_uniform_mean_trajectories\n",
    "\"\"\""
   ]
  },
  {
   "cell_type": "code",
   "execution_count": null,
   "id": "47062ae9a2ba3c0d",
   "metadata": {
    "collapsed": false
   },
   "outputs": [],
   "source": [
    "from typing import List\n",
    "import random\n",
    "\n",
    "def gen_uniform_mean_trajectories(distribution: tuple, number_of_trajectories: int, length_of_trajectory: int) -> List[List[float]]:\n",
    "    # Azonos seed beállítása a reprodukálhatóság érdekében\n",
    "    random.seed(42)\n",
    "    \n",
    "    # Ebben a listában tároljuk az eredményeket\n",
    "    result = []\n",
    "    \n",
    "    for _ in range(number_of_trajectories):\n",
    "        # Minden egyes új belső lista\n",
    "        trajectory = []\n",
    "        cumulative_sum = 0.0\n",
    "        \n",
    "        for _ in range(length_of_trajectory):\n",
    "            value = random.uniform(distribution[0], distribution[1])\n",
    "            cumulative_sum += value\n",
    "            trajectory.append(cumulative_sum / (len(trajectory) + 1))\n",
    "        \n",
    "        result.append(trajectory)\n",
    "    \n",
    "    return result\n"
   ]
  },
  {
   "cell_type": "code",
   "execution_count": null,
   "id": "c1b1f595c241254b",
   "metadata": {
    "collapsed": false
   },
   "outputs": [],
   "source": []
  },
  {
   "cell_type": "code",
   "execution_count": null,
   "id": "3857db99deaa3a1a",
   "metadata": {
    "collapsed": false
   },
   "outputs": [],
   "source": [
    "\"\"\"\n",
    "16. Készíts egy függvényt, ami létrehoz egy listát, benne number_of_trajectories db listával. A belső listák létrehozásának logikája a következő:\n",
    "    A bemeneti paraméterként kapott distribution osztály felhasználásával (LogisticDistribution 1, 3.3 paraméterekkel) generálj length_of_trajectory véletlen számot\n",
    "    A belső lista tartalmazza a generált számok kumulatív átlagát.\n",
    "    Ismételd meg number_of_trajectories alkalommal (mindegyik belső listába egyszer)\n",
    "    A seed értéke legyen 42.\n",
    "\n",
    "függvény bemenete: distribution, number_of_trajectories, length_of_trajectory\n",
    "kimeneti típus: List    \n",
    "függvény neve: gen_logistic_mean_trajectories\n",
    "\"\"\""
   ]
  },
  {
   "cell_type": "code",
   "execution_count": null,
   "outputs": [],
   "source": [
    "from typing import List\n",
    "import random\n",
    "\n",
    "def gen_logistic_mean_trajectories(distribution, number_of_trajectories, length_of_trajectory):\n",
    "    # Azonos seed beállítása a reprodukálhatóság érdekében\n",
    "    random.seed(42)\n",
    "    \n",
    "    # Ebben a listában tároljuk az eredményeket\n",
    "    result = []\n",
    "    \n",
    "    for _ in range(number_of_trajectories):\n",
    "        # Minden egyes új belső lista\n",
    "        trajectory = []\n",
    "        cumulative_sum = 0.0\n",
    "        \n",
    "        for _ in range(length_of_trajectory):\n",
    "            value = random.logisticvariate(distribution[0], distribution[1])\n",
    "            cumulative_sum += value\n",
    "            trajectory.append(cumulative_sum / (len(trajectory) + 1))\n",
    "        \n",
    "        result.append(trajectory)\n",
    "    \n",
    "    return result\n"
   ],
   "metadata": {
    "collapsed": false
   },
   "id": "7abb690a4366a416"
  },
  {
   "cell_type": "code",
   "execution_count": null,
   "outputs": [],
   "source": [],
   "metadata": {
    "collapsed": false
   },
   "id": "9ef153c86975f584"
  },
  {
   "cell_type": "code",
   "execution_count": null,
   "outputs": [],
   "source": [
    "\"\"\"\n",
    "17. Készíts egy függvényt, ami létrehoz egy listát, benne number_of_trajectories db listával. A belső listák létrehozásának logikája a következő:\n",
    "    A bemeneti paraméterként kapott distribution osztály felhasználásával (LaplaceDistribution 1, 3.3 paraméterekkel) generálj length_of_trajectory véletlen számot\n",
    "    A belső lista tartalmazza a generált számok kumulatív átlagát.\n",
    "    Ismételd meg number_of_trajectories alkalommal (mindegyik belső listába egyszer)\n",
    "    A seed értéke legyen 42.\n",
    "\n",
    "függvény bemenete: distribution, number_of_trajectories, length_of_trajectory\n",
    "kimeneti típus: List    \n",
    "függvény neve: gen_laplace_mean_trajectories\n",
    "\"\"\""
   ],
   "metadata": {
    "collapsed": false
   },
   "id": "4a0a34d82f78f1f7"
  },
  {
   "cell_type": "code",
   "execution_count": null,
   "outputs": [],
   "source": [
    "from typing import List\n",
    "import random\n",
    "\n",
    "def gen_laplace_mean_trajectories(distribution, number_of_trajectories, length_of_trajectory):\n",
    "    # Azonos seed beállítása a reprodukálhatóság érdekében\n",
    "    random.seed(42)\n",
    "    \n",
    "    # Ebben a listában tároljuk az eredményeket\n",
    "    result = []\n",
    "    \n",
    "    for _ in range(number_of_trajectories):\n",
    "        # Minden egyes új belső lista\n",
    "        trajectory = []\n",
    "        cumulative_sum = 0.0\n",
    "        \n",
    "        for _ in range(length_of_trajectory):\n",
    "            value = random.laplace(distribution[0], distribution[1])\n",
    "            cumulative_sum += value\n",
    "            trajectory.append(cumulative_sum / (len(trajectory) + 1))\n",
    "        \n",
    "        result.append(trajectory)\n",
    "    \n",
    "    return result\n"
   ],
   "metadata": {
    "collapsed": false
   },
   "id": "a77e96e5081b079b"
  },
  {
   "cell_type": "code",
   "execution_count": null,
   "outputs": [],
   "source": [],
   "metadata": {
    "collapsed": false
   },
   "id": "3846a1c67739b3ce"
  },
  {
   "cell_type": "code",
   "execution_count": null,
   "outputs": [],
   "source": [
    "\"\"\"\n",
    "18. Készíts egy függvényt, ami létrehoz egy listát, benne number_of_trajectories db listával. A belső listák létrehozásának logikája a következő:\n",
    "    A bemeneti paraméterként kapott distribution osztály felhasználásával (CauchyDistribution 2,4 paraméterekkel) generálj length_of_trajectory véletlen számot\n",
    "    A belső lista tartalmazza a generált számok kumulatív átlagát.\n",
    "    Ismételd meg number_of_trajectories alkalommal (mindegyik belső listába egyszer)\n",
    "    A seed értéke legyen 42.\n",
    "\n",
    "függvény bemenete: distribution, number_of_trajectories, length_of_trajectory\n",
    "kimeneti típus: List    \n",
    "függvény neve: gen_cauchy_mean_trajectories\n",
    "\"\"\""
   ],
   "metadata": {
    "collapsed": false
   },
   "id": "4eac338e5ed7e03b"
  },
  {
   "cell_type": "code",
   "execution_count": null,
   "outputs": [],
   "source": [
    "from typing import List\n",
    "import random\n",
    "\n",
    "def gen_cauchy_mean_trajectories(distribution, number_of_trajectories, length_of_trajectory):\n",
    "    # Azonos seed beállítása a reprodukálhatóság érdekében\n",
    "    random.seed(42)\n",
    "    \n",
    "    # Ebben a listában tároljuk az eredményeket\n",
    "    result = []\n",
    "    \n",
    "    for _ in range(number_of_trajectories):\n",
    "        # Minden egyes új belső lista\n",
    "        trajectory = []\n",
    "        cumulative_sum = 0.0\n",
    "        \n",
    "        for _ in range(length_of_trajectory):\n",
    "            value = random.gauss(distribution[0], distribution[1])\n",
    "            cumulative_sum += value\n",
    "            trajectory.append(cumulative_sum / (len(trajectory) + 1))\n",
    "        \n",
    "        result.append(trajectory)\n",
    "    \n",
    "    return result\n"
   ],
   "metadata": {
    "collapsed": false
   },
   "id": "46ed1c9a25c56aec"
  },
  {
   "cell_type": "code",
   "execution_count": null,
   "outputs": [],
   "source": [],
   "metadata": {
    "collapsed": false
   },
   "id": "c9c118d43729fc7a"
  },
  {
   "cell_type": "code",
   "execution_count": null,
   "outputs": [],
   "source": [
    "\"\"\"\n",
    "19. Készíts egy függvényt, ami létrehoz egy listát, benne number_of_trajectories db listával. A belső listák létrehozásának logikája a következő:\n",
    "    A bemeneti paraméterként kapott distribution osztály felhasználásával (ChiSquaredDistribution 3 paraméterrel) generálj length_of_trajectory véletlen számot\n",
    "    A belső lista tartalmazza a generált számok kumulatív átlagát.\n",
    "    Ismételd meg number_of_trajectories alkalommal (mindegyik belső listába egyszer)\n",
    "    A seed értéke legyen 42.\n",
    "\n",
    "függvény bemenete: distribution, number_of_trajectories, length_of_trajectory\n",
    "kimeneti típus: List    \n",
    "függvény neve: gen_chi2_mean_trajectories\n",
    "\"\"\""
   ],
   "metadata": {
    "collapsed": false
   },
   "id": "a506ece2fa8329f2"
  },
  {
   "cell_type": "code",
   "execution_count": null,
   "outputs": [],
   "source": [
    "from typing import List\n",
    "import random\n",
    "\n",
    "def gen_chi2_mean_trajectories(distribution, number_of_trajectories, length_of_trajectory):\n",
    "    # Azonos seed beállítása a reprodukálhatóság érdekében\n",
    "    random.seed(42)\n",
    "    \n",
    "    # Ebben a listában tároljuk az eredményeket\n",
    "    result = []\n",
    "    \n",
    "    for _ in range(number_of_trajectories):\n",
    "        # Minden egyes új belső lista\n",
    "        trajectory = []\n",
    "        cumulative_sum = 0.0\n",
    "        \n",
    "        for _ in range(length_of_trajectory):\n",
    "            value = random.gammavariate(distribution, 1.0)\n",
    "            cumulative_sum += value\n",
    "            trajectory.append(cumulative_sum / (len(trajectory) + 1))\n",
    "        \n",
    "        result.append(trajectory)\n",
    "    \n",
    "    return result\n"
   ],
   "metadata": {
    "collapsed": false
   },
   "id": "7571d5df9c5435c"
  },
  {
   "cell_type": "code",
   "execution_count": null,
   "outputs": [],
   "source": [],
   "metadata": {
    "collapsed": false
   },
   "id": "cec5861b841868fa"
  }
 ],
 "metadata": {
  "kernelspec": {
   "display_name": "Python 3 (ipykernel)",
   "language": "python",
   "name": "python3"
  },
  "language_info": {
   "codemirror_mode": {
    "name": "ipython",
    "version": 3
   },
   "file_extension": ".py",
   "mimetype": "text/x-python",
   "name": "python",
   "nbconvert_exporter": "python",
   "pygments_lexer": "ipython3",
   "version": "3.10.4"
  }
 },
 "nbformat": 4,
 "nbformat_minor": 5
}
